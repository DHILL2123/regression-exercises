{
 "cells": [
  {
   "cell_type": "code",
   "execution_count": 1,
   "id": "0cfc5bac",
   "metadata": {},
   "outputs": [],
   "source": [
    "import numpy as np\n",
    "import seaborn as sns\n",
    "import scipy.stats as stats\n",
    "import pandas as pd\n",
    "import matplotlib.pyplot as plt\n",
    "from pydataset import data\n",
    "import os\n",
    "from acquire import get_titanic_data\n",
    "from prepare import clean_titanic\n",
    "from env import host,db,protocol,password,user,mysqlcon\n",
    "from wrangle import get_zillow_data, wrangle_zillow\n",
    "from sklearn.model_selection import train_test_split\n",
    "from sklearn.preprocessing import QuantileTransformer\n",
    "import sklearn.preprocessing\n",
    "from sklearn.impute import SimpleImputer\n",
    "\n",
    "import sklearn.metrics\n",
    "import acquire\n",
    "from sklearn.tree import DecisionTreeClassifier, plot_tree, export_text\n",
    "from sklearn.preprocessing import LabelEncoder\n",
    "\n",
    "np.random.seed(123)"
   ]
  },
  {
   "cell_type": "code",
   "execution_count": 2,
   "id": "81bb721f",
   "metadata": {},
   "outputs": [],
   "source": [
    "#acquire\n",
    "df=get_zillow_data()"
   ]
  },
  {
   "cell_type": "code",
   "execution_count": 3,
   "id": "e73e4fe6",
   "metadata": {},
   "outputs": [
    {
     "data": {
      "text/plain": [
       "Unnamed: 0                      0.00\n",
       "bedroomcnt                      0.10\n",
       "bathroomcnt                     0.10\n",
       "calculatedfinishedsquarefeet    1.51\n",
       "taxvaluedollarcnt               1.15\n",
       "yearbuilt                       1.60\n",
       "taxamount                       0.76\n",
       "fips                            0.10\n",
       "propertylandusetypeid           0.10\n",
       "propertylandusedesc             0.10\n",
       "dtype: float64"
      ]
     },
     "execution_count": 3,
     "metadata": {},
     "output_type": "execute_result"
    }
   ],
   "source": [
    "round(df.isnull().sum() / len(df) * 100,2)"
   ]
  },
  {
   "cell_type": "code",
   "execution_count": 4,
   "id": "5212958f",
   "metadata": {},
   "outputs": [],
   "source": [
    "#clean the data \n",
    "df = wrangle_zillow(df)"
   ]
  },
  {
   "cell_type": "code",
   "execution_count": 5,
   "id": "49b15554",
   "metadata": {},
   "outputs": [],
   "source": [
    "df = df.fillna(0)"
   ]
  },
  {
   "cell_type": "code",
   "execution_count": 6,
   "id": "8da134fb",
   "metadata": {},
   "outputs": [
    {
     "name": "stdout",
     "output_type": "stream",
     "text": [
      "<class 'pandas.core.frame.DataFrame'>\n",
      "Int64Index: 2152863 entries, 1 to 2982282\n",
      "Data columns (total 9 columns):\n",
      " #   Column                        Dtype  \n",
      "---  ------                        -----  \n",
      " 0   Unnamed: 0                    int64  \n",
      " 1   bedroomcnt                    float64\n",
      " 2   bathroomcnt                   float64\n",
      " 3   calculatedfinishedsquarefeet  float64\n",
      " 4   taxvaluedollarcnt             float64\n",
      " 5   yearbuilt                     float64\n",
      " 6   taxamount                     float64\n",
      " 7   fips                          float64\n",
      " 8   propertylandusetypeid         float64\n",
      "dtypes: float64(8), int64(1)\n",
      "memory usage: 164.3 MB\n"
     ]
    }
   ],
   "source": [
    "df.info()"
   ]
  },
  {
   "cell_type": "code",
   "execution_count": 7,
   "id": "906b3922",
   "metadata": {},
   "outputs": [
    {
     "data": {
      "text/html": [
       "<div>\n",
       "<style scoped>\n",
       "    .dataframe tbody tr th:only-of-type {\n",
       "        vertical-align: middle;\n",
       "    }\n",
       "\n",
       "    .dataframe tbody tr th {\n",
       "        vertical-align: top;\n",
       "    }\n",
       "\n",
       "    .dataframe thead th {\n",
       "        text-align: right;\n",
       "    }\n",
       "</style>\n",
       "<table border=\"1\" class=\"dataframe\">\n",
       "  <thead>\n",
       "    <tr style=\"text-align: right;\">\n",
       "      <th></th>\n",
       "      <th>Unnamed: 0</th>\n",
       "      <th>bedroomcnt</th>\n",
       "      <th>bathroomcnt</th>\n",
       "      <th>calculatedfinishedsquarefeet</th>\n",
       "      <th>taxvaluedollarcnt</th>\n",
       "      <th>yearbuilt</th>\n",
       "      <th>taxamount</th>\n",
       "      <th>fips</th>\n",
       "      <th>propertylandusetypeid</th>\n",
       "    </tr>\n",
       "  </thead>\n",
       "  <tbody>\n",
       "    <tr>\n",
       "      <th>count</th>\n",
       "      <td>2.152863e+06</td>\n",
       "      <td>2.152863e+06</td>\n",
       "      <td>2.152863e+06</td>\n",
       "      <td>2.152863e+06</td>\n",
       "      <td>2.152863e+06</td>\n",
       "      <td>2.152863e+06</td>\n",
       "      <td>2.152863e+06</td>\n",
       "      <td>2.152863e+06</td>\n",
       "      <td>2152863.0</td>\n",
       "    </tr>\n",
       "    <tr>\n",
       "      <th>mean</th>\n",
       "      <td>1.490834e+06</td>\n",
       "      <td>3.287179e+00</td>\n",
       "      <td>2.230676e+00</td>\n",
       "      <td>1.855514e+03</td>\n",
       "      <td>4.617905e+05</td>\n",
       "      <td>1.952445e+03</td>\n",
       "      <td>5.623240e+03</td>\n",
       "      <td>6.048377e+03</td>\n",
       "      <td>261.0</td>\n",
       "    </tr>\n",
       "    <tr>\n",
       "      <th>std</th>\n",
       "      <td>8.608785e+05</td>\n",
       "      <td>9.547809e-01</td>\n",
       "      <td>9.992898e-01</td>\n",
       "      <td>1.225286e+03</td>\n",
       "      <td>6.996308e+05</td>\n",
       "      <td>1.307438e+02</td>\n",
       "      <td>8.174468e+03</td>\n",
       "      <td>2.043329e+01</td>\n",
       "      <td>0.0</td>\n",
       "    </tr>\n",
       "    <tr>\n",
       "      <th>min</th>\n",
       "      <td>1.000000e+00</td>\n",
       "      <td>0.000000e+00</td>\n",
       "      <td>0.000000e+00</td>\n",
       "      <td>0.000000e+00</td>\n",
       "      <td>0.000000e+00</td>\n",
       "      <td>0.000000e+00</td>\n",
       "      <td>0.000000e+00</td>\n",
       "      <td>6.037000e+03</td>\n",
       "      <td>261.0</td>\n",
       "    </tr>\n",
       "    <tr>\n",
       "      <th>25%</th>\n",
       "      <td>7.451170e+05</td>\n",
       "      <td>3.000000e+00</td>\n",
       "      <td>2.000000e+00</td>\n",
       "      <td>1.253000e+03</td>\n",
       "      <td>1.880370e+05</td>\n",
       "      <td>1.949000e+03</td>\n",
       "      <td>2.524540e+03</td>\n",
       "      <td>6.037000e+03</td>\n",
       "      <td>261.0</td>\n",
       "    </tr>\n",
       "    <tr>\n",
       "      <th>50%</th>\n",
       "      <td>1.490613e+06</td>\n",
       "      <td>3.000000e+00</td>\n",
       "      <td>2.000000e+00</td>\n",
       "      <td>1.620000e+03</td>\n",
       "      <td>3.275770e+05</td>\n",
       "      <td>1.958000e+03</td>\n",
       "      <td>4.101630e+03</td>\n",
       "      <td>6.037000e+03</td>\n",
       "      <td>261.0</td>\n",
       "    </tr>\n",
       "    <tr>\n",
       "      <th>75%</th>\n",
       "      <td>2.235860e+06</td>\n",
       "      <td>4.000000e+00</td>\n",
       "      <td>3.000000e+00</td>\n",
       "      <td>2.204000e+03</td>\n",
       "      <td>5.344550e+05</td>\n",
       "      <td>1.975000e+03</td>\n",
       "      <td>6.406900e+03</td>\n",
       "      <td>6.059000e+03</td>\n",
       "      <td>261.0</td>\n",
       "    </tr>\n",
       "    <tr>\n",
       "      <th>max</th>\n",
       "      <td>2.982282e+06</td>\n",
       "      <td>2.500000e+01</td>\n",
       "      <td>3.200000e+01</td>\n",
       "      <td>9.525760e+05</td>\n",
       "      <td>9.842891e+07</td>\n",
       "      <td>2.016000e+03</td>\n",
       "      <td>1.337756e+06</td>\n",
       "      <td>6.111000e+03</td>\n",
       "      <td>261.0</td>\n",
       "    </tr>\n",
       "  </tbody>\n",
       "</table>\n",
       "</div>"
      ],
      "text/plain": [
       "         Unnamed: 0    bedroomcnt   bathroomcnt  calculatedfinishedsquarefeet  \\\n",
       "count  2.152863e+06  2.152863e+06  2.152863e+06                  2.152863e+06   \n",
       "mean   1.490834e+06  3.287179e+00  2.230676e+00                  1.855514e+03   \n",
       "std    8.608785e+05  9.547809e-01  9.992898e-01                  1.225286e+03   \n",
       "min    1.000000e+00  0.000000e+00  0.000000e+00                  0.000000e+00   \n",
       "25%    7.451170e+05  3.000000e+00  2.000000e+00                  1.253000e+03   \n",
       "50%    1.490613e+06  3.000000e+00  2.000000e+00                  1.620000e+03   \n",
       "75%    2.235860e+06  4.000000e+00  3.000000e+00                  2.204000e+03   \n",
       "max    2.982282e+06  2.500000e+01  3.200000e+01                  9.525760e+05   \n",
       "\n",
       "       taxvaluedollarcnt     yearbuilt     taxamount          fips  \\\n",
       "count       2.152863e+06  2.152863e+06  2.152863e+06  2.152863e+06   \n",
       "mean        4.617905e+05  1.952445e+03  5.623240e+03  6.048377e+03   \n",
       "std         6.996308e+05  1.307438e+02  8.174468e+03  2.043329e+01   \n",
       "min         0.000000e+00  0.000000e+00  0.000000e+00  6.037000e+03   \n",
       "25%         1.880370e+05  1.949000e+03  2.524540e+03  6.037000e+03   \n",
       "50%         3.275770e+05  1.958000e+03  4.101630e+03  6.037000e+03   \n",
       "75%         5.344550e+05  1.975000e+03  6.406900e+03  6.059000e+03   \n",
       "max         9.842891e+07  2.016000e+03  1.337756e+06  6.111000e+03   \n",
       "\n",
       "       propertylandusetypeid  \n",
       "count              2152863.0  \n",
       "mean                   261.0  \n",
       "std                      0.0  \n",
       "min                    261.0  \n",
       "25%                    261.0  \n",
       "50%                    261.0  \n",
       "75%                    261.0  \n",
       "max                    261.0  "
      ]
     },
     "execution_count": 7,
     "metadata": {},
     "output_type": "execute_result"
    }
   ],
   "source": [
    "df.describe()"
   ]
  },
  {
   "cell_type": "code",
   "execution_count": 8,
   "id": "963368f9",
   "metadata": {},
   "outputs": [],
   "source": [
    "#test train split\n",
    "x_train_and_validate, x_test = train_test_split(df, random_state=123)\n",
    "\n",
    "x_train, x_validate = train_test_split(x_train_and_validate)"
   ]
  },
  {
   "cell_type": "code",
   "execution_count": 9,
   "id": "53909b3e",
   "metadata": {},
   "outputs": [],
   "source": [
    "#### Min Max Scaler\n",
    "scaler = sklearn.preprocessing.MinMaxScaler()\n",
    "# Note that we only call .fit with the training data,\n",
    "# but we use .transform to apply the scaling to all the data splits.\n",
    "scaler.fit(x_train)\n",
    "\n",
    "\n",
    "### Apply to train, validate, and test\n",
    "x_train_scaled = scaler.transform(x_train)\n",
    "x_validate_scaled = scaler.transform(x_validate)\n",
    "x_test_scaled = scaler.transform(x_test)"
   ]
  },
  {
   "cell_type": "code",
   "execution_count": 10,
   "id": "0a090b61",
   "metadata": {},
   "outputs": [
    {
     "data": {
      "image/png": "[encoded data removed]",
      "text/plain": [
       "<Figure size 1300x600 with 2 Axes>"
      ]
     },
     "metadata": {},
     "output_type": "display_data"
    }
   ],
   "source": [
    "plt.figure(figsize=(13, 6))\n",
    "plt.subplot(121)\n",
    "plt.hist(x_train, bins=25, ec='black')\n",
    "plt.title('Original')\n",
    "plt.subplot(122)\n",
    "plt.hist(x_train_scaled, bins=25, ec='black')\n",
    "plt.title('Scaled')\n",
    "plt.show()"
   ]
  },
  {
   "cell_type": "code",
   "execution_count": 11,
   "id": "f0b050df",
   "metadata": {},
   "outputs": [
    {
     "data": {
      "image/png": "[encoded data removed]",
      "text/plain": [
       "<Figure size 1300x600 with 2 Axes>"
      ]
     },
     "metadata": {},
     "output_type": "display_data"
    }
   ],
   "source": [
    "scaler = sklearn.preprocessing.StandardScaler()\n",
    "# Note that we only call .fit with the training data,\n",
    "# but we use .transform to apply the scaling to all the data splits.\n",
    "scaler.fit(x_train)\n",
    "\n",
    "x_train_scaled = scaler.transform(x_train)\n",
    "x_validate_scaled = scaler.transform(x_validate)\n",
    "x_test_scaled = scaler.transform(x_test)\n",
    "\n",
    "plt.figure(figsize=(13, 6))\n",
    "plt.subplot(121)\n",
    "plt.hist(x_train, bins=25, ec='black')\n",
    "plt.title('Original')\n",
    "plt.subplot(122)\n",
    "plt.hist(x_train_scaled, bins=25, ec='black')\n",
    "plt.title('Scaled')\n",
    "plt.show()"
   ]
  },
  {
   "cell_type": "code",
   "execution_count": 12,
   "id": "bf8a40bd",
   "metadata": {},
   "outputs": [
    {
     "data": {
      "text/plain": [
       "((1210985, 9), (1210985, 9))"
      ]
     },
     "execution_count": 12,
     "metadata": {},
     "output_type": "execute_result"
    }
   ],
   "source": [
    "x_train_scaled.shape, x_train.shape"
   ]
  },
  {
   "cell_type": "code",
   "execution_count": 13,
   "id": "72930033",
   "metadata": {},
   "outputs": [
    {
     "data": {
      "image/png": "[encoded data removed]",
      "text/plain": [
       "<Figure size 1300x600 with 2 Axes>"
      ]
     },
     "metadata": {},
     "output_type": "display_data"
    }
   ],
   "source": [
    "scaler = sklearn.preprocessing.RobustScaler()\n",
    "# Note that we only call .fit with the training data,\n",
    "# but we use .transform to apply the scaling to all the data splits.\n",
    "scaler.fit(x_train)\n",
    "\n",
    "x_train_scaled = scaler.transform(x_train)\n",
    "x_validate_scaled = scaler.transform(x_validate)\n",
    "x_test_scaled = scaler.transform(x_test)\n",
    "\n",
    "plt.figure(figsize=(13, 6))\n",
    "plt.subplot(121)\n",
    "plt.hist(x_train, bins=25, ec='black')\n",
    "plt.title('Original')\n",
    "plt.subplot(122)\n",
    "plt.hist(x_train_scaled, bins=25, ec='black')\n",
    "plt.title('Scaled')\n",
    "plt.show()"
   ]
  },
  {
   "cell_type": "markdown",
   "id": "b67b778c",
   "metadata": {},
   "source": [
    "## Apply the .inverse_transform method to your scaled data. Is the resulting dataset the exact same as the original data?\n",
    "\n",
    "-- The data is returned in an array that matches the original x_train data"
   ]
  },
  {
   "cell_type": "markdown",
   "id": "6a52fffc",
   "metadata": {},
   "source": [
    "## Apply the scalers we talked about in this lesson to your data and visualize the results for the unscaled and scaled distribution .\n"
   ]
  },
  {
   "cell_type": "code",
   "execution_count": 14,
   "id": "213dca57",
   "metadata": {},
   "outputs": [
    {
     "data": {
      "text/plain": [
       "array([[1.959970e+05, 4.000000e+00, 2.000000e+00, ..., 1.178430e+03,\n",
       "        6.037000e+03, 2.610000e+02],\n",
       "       [2.008655e+06, 4.000000e+00, 2.000000e+00, ..., 7.302960e+03,\n",
       "        6.037000e+03, 2.610000e+02],\n",
       "       [1.958640e+05, 3.000000e+00, 2.000000e+00, ..., 1.342670e+03,\n",
       "        6.037000e+03, 2.610000e+02],\n",
       "       ...,\n",
       "       [7.488780e+05, 4.000000e+00, 2.000000e+00, ..., 2.549130e+03,\n",
       "        6.037000e+03, 2.610000e+02],\n",
       "       [2.457747e+06, 4.000000e+00, 2.500000e+00, ..., 6.539360e+03,\n",
       "        6.059000e+03, 2.610000e+02],\n",
       "       [1.608354e+06, 3.000000e+00, 2.500000e+00, ..., 2.961600e+03,\n",
       "        6.059000e+03, 2.610000e+02]])"
      ]
     },
     "execution_count": 14,
     "metadata": {},
     "output_type": "execute_result"
    }
   ],
   "source": [
    "scaler.inverse_transform(x_train_scaled)"
   ]
  },
  {
   "cell_type": "code",
   "execution_count": 15,
   "id": "3db4dc58",
   "metadata": {},
   "outputs": [
    {
     "data": {
      "text/html": [
       "<div>\n",
       "<style scoped>\n",
       "    .dataframe tbody tr th:only-of-type {\n",
       "        vertical-align: middle;\n",
       "    }\n",
       "\n",
       "    .dataframe tbody tr th {\n",
       "        vertical-align: top;\n",
       "    }\n",
       "\n",
       "    .dataframe thead th {\n",
       "        text-align: right;\n",
       "    }\n",
       "</style>\n",
       "<table border=\"1\" class=\"dataframe\">\n",
       "  <thead>\n",
       "    <tr style=\"text-align: right;\">\n",
       "      <th></th>\n",
       "      <th>Unnamed: 0</th>\n",
       "      <th>bedroomcnt</th>\n",
       "      <th>bathroomcnt</th>\n",
       "      <th>calculatedfinishedsquarefeet</th>\n",
       "      <th>taxvaluedollarcnt</th>\n",
       "      <th>yearbuilt</th>\n",
       "      <th>taxamount</th>\n",
       "      <th>fips</th>\n",
       "      <th>propertylandusetypeid</th>\n",
       "    </tr>\n",
       "  </thead>\n",
       "  <tbody>\n",
       "    <tr>\n",
       "      <th>195997</th>\n",
       "      <td>195997</td>\n",
       "      <td>4.0</td>\n",
       "      <td>2.0</td>\n",
       "      <td>1668.0</td>\n",
       "      <td>102092.0</td>\n",
       "      <td>1958.0</td>\n",
       "      <td>1178.43</td>\n",
       "      <td>6037.0</td>\n",
       "      <td>261.0</td>\n",
       "    </tr>\n",
       "    <tr>\n",
       "      <th>2008655</th>\n",
       "      <td>2008655</td>\n",
       "      <td>4.0</td>\n",
       "      <td>2.0</td>\n",
       "      <td>1720.0</td>\n",
       "      <td>627424.0</td>\n",
       "      <td>1961.0</td>\n",
       "      <td>7302.96</td>\n",
       "      <td>6037.0</td>\n",
       "      <td>261.0</td>\n",
       "    </tr>\n",
       "    <tr>\n",
       "      <th>195864</th>\n",
       "      <td>195864</td>\n",
       "      <td>3.0</td>\n",
       "      <td>2.0</td>\n",
       "      <td>1288.0</td>\n",
       "      <td>108323.0</td>\n",
       "      <td>1953.0</td>\n",
       "      <td>1342.67</td>\n",
       "      <td>6037.0</td>\n",
       "      <td>261.0</td>\n",
       "    </tr>\n",
       "    <tr>\n",
       "      <th>1524546</th>\n",
       "      <td>1524546</td>\n",
       "      <td>4.0</td>\n",
       "      <td>3.0</td>\n",
       "      <td>2238.0</td>\n",
       "      <td>231160.0</td>\n",
       "      <td>1986.0</td>\n",
       "      <td>3657.71</td>\n",
       "      <td>6037.0</td>\n",
       "      <td>261.0</td>\n",
       "    </tr>\n",
       "    <tr>\n",
       "      <th>1760497</th>\n",
       "      <td>1760497</td>\n",
       "      <td>4.0</td>\n",
       "      <td>2.5</td>\n",
       "      <td>2065.0</td>\n",
       "      <td>195043.0</td>\n",
       "      <td>1978.0</td>\n",
       "      <td>2177.68</td>\n",
       "      <td>6111.0</td>\n",
       "      <td>261.0</td>\n",
       "    </tr>\n",
       "    <tr>\n",
       "      <th>...</th>\n",
       "      <td>...</td>\n",
       "      <td>...</td>\n",
       "      <td>...</td>\n",
       "      <td>...</td>\n",
       "      <td>...</td>\n",
       "      <td>...</td>\n",
       "      <td>...</td>\n",
       "      <td>...</td>\n",
       "      <td>...</td>\n",
       "    </tr>\n",
       "    <tr>\n",
       "      <th>1686048</th>\n",
       "      <td>1686048</td>\n",
       "      <td>3.0</td>\n",
       "      <td>2.0</td>\n",
       "      <td>1449.0</td>\n",
       "      <td>142874.0</td>\n",
       "      <td>1976.0</td>\n",
       "      <td>1592.42</td>\n",
       "      <td>6111.0</td>\n",
       "      <td>261.0</td>\n",
       "    </tr>\n",
       "    <tr>\n",
       "      <th>1487056</th>\n",
       "      <td>1487056</td>\n",
       "      <td>2.0</td>\n",
       "      <td>1.0</td>\n",
       "      <td>950.0</td>\n",
       "      <td>143495.0</td>\n",
       "      <td>1972.0</td>\n",
       "      <td>1918.76</td>\n",
       "      <td>6059.0</td>\n",
       "      <td>261.0</td>\n",
       "    </tr>\n",
       "    <tr>\n",
       "      <th>748878</th>\n",
       "      <td>748878</td>\n",
       "      <td>4.0</td>\n",
       "      <td>2.0</td>\n",
       "      <td>1476.0</td>\n",
       "      <td>138898.0</td>\n",
       "      <td>1955.0</td>\n",
       "      <td>2549.13</td>\n",
       "      <td>6037.0</td>\n",
       "      <td>261.0</td>\n",
       "    </tr>\n",
       "    <tr>\n",
       "      <th>2457747</th>\n",
       "      <td>2457747</td>\n",
       "      <td>4.0</td>\n",
       "      <td>2.5</td>\n",
       "      <td>3105.0</td>\n",
       "      <td>632837.0</td>\n",
       "      <td>1986.0</td>\n",
       "      <td>6539.36</td>\n",
       "      <td>6059.0</td>\n",
       "      <td>261.0</td>\n",
       "    </tr>\n",
       "    <tr>\n",
       "      <th>1608354</th>\n",
       "      <td>1608354</td>\n",
       "      <td>3.0</td>\n",
       "      <td>2.5</td>\n",
       "      <td>1758.0</td>\n",
       "      <td>297819.0</td>\n",
       "      <td>1989.0</td>\n",
       "      <td>2961.60</td>\n",
       "      <td>6059.0</td>\n",
       "      <td>261.0</td>\n",
       "    </tr>\n",
       "  </tbody>\n",
       "</table>\n",
       "<p>1210985 rows × 9 columns</p>\n",
       "</div>"
      ],
      "text/plain": [
       "         Unnamed: 0  bedroomcnt  bathroomcnt  calculatedfinishedsquarefeet  \\\n",
       "195997       195997         4.0          2.0                        1668.0   \n",
       "2008655     2008655         4.0          2.0                        1720.0   \n",
       "195864       195864         3.0          2.0                        1288.0   \n",
       "1524546     1524546         4.0          3.0                        2238.0   \n",
       "1760497     1760497         4.0          2.5                        2065.0   \n",
       "...             ...         ...          ...                           ...   \n",
       "1686048     1686048         3.0          2.0                        1449.0   \n",
       "1487056     1487056         2.0          1.0                         950.0   \n",
       "748878       748878         4.0          2.0                        1476.0   \n",
       "2457747     2457747         4.0          2.5                        3105.0   \n",
       "1608354     1608354         3.0          2.5                        1758.0   \n",
       "\n",
       "         taxvaluedollarcnt  yearbuilt  taxamount    fips  \\\n",
       "195997            102092.0     1958.0    1178.43  6037.0   \n",
       "2008655           627424.0     1961.0    7302.96  6037.0   \n",
       "195864            108323.0     1953.0    1342.67  6037.0   \n",
       "1524546           231160.0     1986.0    3657.71  6037.0   \n",
       "1760497           195043.0     1978.0    2177.68  6111.0   \n",
       "...                    ...        ...        ...     ...   \n",
       "1686048           142874.0     1976.0    1592.42  6111.0   \n",
       "1487056           143495.0     1972.0    1918.76  6059.0   \n",
       "748878            138898.0     1955.0    2549.13  6037.0   \n",
       "2457747           632837.0     1986.0    6539.36  6059.0   \n",
       "1608354           297819.0     1989.0    2961.60  6059.0   \n",
       "\n",
       "         propertylandusetypeid  \n",
       "195997                   261.0  \n",
       "2008655                  261.0  \n",
       "195864                   261.0  \n",
       "1524546                  261.0  \n",
       "1760497                  261.0  \n",
       "...                        ...  \n",
       "1686048                  261.0  \n",
       "1487056                  261.0  \n",
       "748878                   261.0  \n",
       "2457747                  261.0  \n",
       "1608354                  261.0  \n",
       "\n",
       "[1210985 rows x 9 columns]"
      ]
     },
     "execution_count": 15,
     "metadata": {},
     "output_type": "execute_result"
    }
   ],
   "source": [
    "x_train"
   ]
  },
  {
   "cell_type": "markdown",
   "id": "facf1523",
   "metadata": {},
   "source": [
    "### Read the documentation for sklearn's QuantileTransformer. Use normal for the output_distribution and apply this scaler to your data. Visualize the result of your data scaling."
   ]
  },
  {
   "cell_type": "code",
   "execution_count": 16,
   "id": "c06934b0",
   "metadata": {},
   "outputs": [
    {
     "data": {
      "image/png": "[encoded data removed]",
      "text/plain": [
       "<Figure size 1300x600 with 2 Axes>"
      ]
     },
     "metadata": {},
     "output_type": "display_data"
    }
   ],
   "source": [
    "from sklearn import preprocessing\n",
    "scaler = preprocessing.QuantileTransformer(n_quantiles=10,random_state=123,output_distribution='normal')\n",
    "# Note that we only call .fit with the training data,\n",
    "# but we use .transform to apply the scaling to all the data splits.\n",
    "scaler.fit(x_train)\n",
    "\n",
    "x_train_scaled = scaler.transform(x_train)\n",
    "x_validate_scaled = scaler.transform(x_validate)\n",
    "x_test_scaled = scaler.transform(x_test)\n",
    "\n",
    "plt.figure(figsize=(13, 6))\n",
    "plt.subplot(121)\n",
    "plt.hist(x_train, bins=25, ec='black')\n",
    "plt.title('Original')\n",
    "plt.subplot(122)\n",
    "plt.hist(x_train_scaled, bins=25, ec='black')\n",
    "plt.title('Scaled')\n",
    "plt.show()"
   ]
  },
  {
   "cell_type": "markdown",
   "id": "fd062b80",
   "metadata": {},
   "source": [
    "### Use the QuantileTransformer, but omit the output_distribution argument. Visualize your results. What do you notice?"
   ]
  },
  {
   "cell_type": "code",
   "execution_count": 17,
   "id": "0f1412d4",
   "metadata": {},
   "outputs": [
    {
     "data": {
      "image/png": "[encoded data removed]",
      "text/plain": [
       "<Figure size 1300x600 with 2 Axes>"
      ]
     },
     "metadata": {},
     "output_type": "display_data"
    }
   ],
   "source": [
    "from sklearn import preprocessing\n",
    "scaler = preprocessing.QuantileTransformer(n_quantiles=10,random_state=123)\n",
    "# Note that we only call .fit with the training data,\n",
    "# but we use .transform to apply the scaling to all the data splits.\n",
    "scaler.fit(x_train)\n",
    "\n",
    "x_train_scaled = scaler.transform(x_train)\n",
    "x_validate_scaled = scaler.transform(x_validate)\n",
    "x_test_scaled = scaler.transform(x_test)\n",
    "\n",
    "plt.figure(figsize=(13, 6))\n",
    "plt.subplot(121)\n",
    "plt.hist(x_train, bins=25, ec='black')\n",
    "plt.title('Original')\n",
    "plt.subplot(122)\n",
    "plt.hist(x_train_scaled, bins=25, ec='black')\n",
    "plt.title('Scaled')\n",
    "plt.show()"
   ]
  },
  {
   "cell_type": "markdown",
   "id": "a2cfe7dd",
   "metadata": {},
   "source": [
    "### Based on the work you've done, choose a scaling method for your dataset. Write a function within your prepare.py that accepts as input the train, validate, and test data splits, and returns the scaled versions of each. Be sure to only learn the parameters for scaling from your training data!"
   ]
  },
  {
   "cell_type": "code",
   "execution_count": null,
   "id": "d5151797",
   "metadata": {},
   "outputs": [],
   "source": [
    "def minmax_scaler(x_train, x_validate, x_test,):\n",
    "    ######## Min Max Scaler (range calculations)\n",
    "    scaler = sklearn.preprocessing.MinMaxScaler()\n",
    "    # Note that we only call .fit with the training data,\n",
    "    # but we use .transform to apply the scaling to all the data splits.\n",
    "    scaler.fit(x_train)\n",
    "    ### Apply to train, validate, and test\n",
    "    x_train_scaled = scaler.transform(x_train)\n",
    "    x_validate_scaled = scaler.transform(x_validate)\n",
    "    x_test_scaled = scaler.transform(x_test)\n",
    "    return x_train_scaled, x_validate_scaled, x_test_scaled"
   ]
  }
 ],
 "metadata": {
  "kernelspec": {
   "display_name": "Python 3 (ipykernel)",
   "language": "python",
   "name": "python3"
  },
  "language_info": {
   "codemirror_mode": {
    "name": "ipython",
    "version": 3
   },
   "file_extension": ".py",
   "mimetype": "text/x-python",
   "name": "python",
   "nbconvert_exporter": "python",
   "pygments_lexer": "ipython3",
   "version": "3.9.13"
  }
 },
 "nbformat": 4,
 "nbformat_minor": 5
}
