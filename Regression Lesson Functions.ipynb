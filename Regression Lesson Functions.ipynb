{
 "cells": [
  {
   "cell_type": "code",
   "execution_count": 1,
   "id": "a756a917",
   "metadata": {},
   "outputs": [],
   "source": [
    "import numpy as np\n",
    "import seaborn as sns\n",
    "import scipy.stats as stats\n",
    "import pandas as pd\n",
    "import matplotlib.pyplot as plt\n",
    "from pydataset import data\n",
    "import os\n",
    "from acquire import get_titanic_data\n",
    "from prepare import clean_titanic\n",
    "from env import host,db,protocol,password,user,mysqlcon\n",
    "\n",
    "from sklearn.model_selection import train_test_split\n",
    "from sklearn.impute import SimpleImputer\n",
    "\n",
    "import sklearn.metrics\n",
    "from sklearn.metrics import confusion_matrix\n",
    "from sklearn.metrics import recall_score\n",
    "from sklearn.metrics import classification_report\n",
    "from sklearn.metrics import precision_score\n",
    "from sklearn.metrics import accuracy_score\n",
    "import acquire\n",
    "from sklearn.tree import DecisionTreeClassifier, plot_tree, export_text"
   ]
  },
  {
   "cell_type": "code",
   "execution_count": 2,
   "id": "b2e9c34c",
   "metadata": {},
   "outputs": [
    {
     "data": {
      "text/plain": [
       "True"
      ]
     },
     "execution_count": 2,
     "metadata": {},
     "output_type": "execute_result"
    }
   ],
   "source": [
    "filename = \"student_grades.csv\"\n",
    "os.path.isfile(filename)"
   ]
  },
  {
   "cell_type": "code",
   "execution_count": 3,
   "id": "7d262fb6",
   "metadata": {},
   "outputs": [],
   "source": [
    "def aquire_student_grades():\n",
    "    filename = \"student_grades.csv\"\n",
    "\n",
    "    mysqlcon=f\"{protocol}://{user}:{password}@{host}/{db}\"\n",
    "\n",
    "    if os.path.isfile(filename):\n",
    "        df = pd.read_csv(filename)\n",
    "        \n",
    "      # Write that dataframe to disk for later. Called \"caching\" the data for later.\n",
    "        df.to_csv(filename)\n",
    "        return df\n",
    "    \n",
    "  \n"
   ]
  },
  {
   "cell_type": "code",
   "execution_count": null,
   "id": "1db00bf6",
   "metadata": {},
   "outputs": [],
   "source": []
  },
  {
   "cell_type": "code",
   "execution_count": 4,
   "id": "0052db48",
   "metadata": {},
   "outputs": [],
   "source": [
    "df=aquire_student_grades()"
   ]
  },
  {
   "cell_type": "code",
   "execution_count": 5,
   "id": "432dcb05",
   "metadata": {},
   "outputs": [],
   "source": [
    "df = pd.read_csv(filename)"
   ]
  },
  {
   "cell_type": "code",
   "execution_count": 6,
   "id": "e78c3c40",
   "metadata": {},
   "outputs": [],
   "source": [
    "df = df.drop(columns='student_id')"
   ]
  },
  {
   "cell_type": "code",
   "execution_count": 7,
   "id": "9d378b6d",
   "metadata": {},
   "outputs": [
    {
     "data": {
      "text/plain": [
       "Unnamed: 0.2    0\n",
       "Unnamed: 0.1    0\n",
       "Unnamed: 0      0\n",
       "exam1           1\n",
       "exam2           0\n",
       "exam3           1\n",
       "final_grade     0\n",
       "dtype: int64"
      ]
     },
     "execution_count": 7,
     "metadata": {},
     "output_type": "execute_result"
    }
   ],
   "source": [
    "df.isna().sum()"
   ]
  },
  {
   "cell_type": "code",
   "execution_count": 8,
   "id": "130af956",
   "metadata": {},
   "outputs": [
    {
     "data": {
      "text/plain": [
       "False    103\n",
       "True       1\n",
       "Name: exam3, dtype: int64"
      ]
     },
     "execution_count": 8,
     "metadata": {},
     "output_type": "execute_result"
    }
   ],
   "source": [
    "df['exam3'].isna().value_counts()"
   ]
  },
  {
   "cell_type": "code",
   "execution_count": 9,
   "id": "6a3f8108",
   "metadata": {},
   "outputs": [
    {
     "data": {
      "text/plain": [
       "False    103\n",
       "True       1\n",
       "Name: exam1, dtype: int64"
      ]
     },
     "execution_count": 9,
     "metadata": {},
     "output_type": "execute_result"
    }
   ],
   "source": [
    "df['exam1'].isna().value_counts()"
   ]
  },
  {
   "cell_type": "code",
   "execution_count": 10,
   "id": "ea0d3b0d",
   "metadata": {},
   "outputs": [
    {
     "data": {
      "text/plain": [
       "(102, 7)"
      ]
     },
     "execution_count": 10,
     "metadata": {},
     "output_type": "execute_result"
    }
   ],
   "source": [
    "df.dropna().shape"
   ]
  },
  {
   "cell_type": "code",
   "execution_count": 11,
   "id": "acad3379",
   "metadata": {},
   "outputs": [],
   "source": [
    "df = df.dropna()"
   ]
  },
  {
   "cell_type": "code",
   "execution_count": 12,
   "id": "6103c0c3",
   "metadata": {},
   "outputs": [
    {
     "name": "stdout",
     "output_type": "stream",
     "text": [
      "<class 'pandas.core.frame.DataFrame'>\n",
      "Int64Index: 102 entries, 0 to 103\n",
      "Data columns (total 7 columns):\n",
      " #   Column        Non-Null Count  Dtype  \n",
      "---  ------        --------------  -----  \n",
      " 0   Unnamed: 0.2  102 non-null    int64  \n",
      " 1   Unnamed: 0.1  102 non-null    int64  \n",
      " 2   Unnamed: 0    102 non-null    int64  \n",
      " 3   exam1         102 non-null    float64\n",
      " 4   exam2         102 non-null    int64  \n",
      " 5   exam3         102 non-null    float64\n",
      " 6   final_grade   102 non-null    int64  \n",
      "dtypes: float64(2), int64(5)\n",
      "memory usage: 6.4 KB\n"
     ]
    }
   ],
   "source": [
    "df.info()"
   ]
  },
  {
   "cell_type": "code",
   "execution_count": 13,
   "id": "7f2ca399",
   "metadata": {},
   "outputs": [
    {
     "data": {
      "text/plain": [
       "70.0     16\n",
       "100.0     8\n",
       "98.0      8\n",
       "83.0      8\n",
       "93.0      8\n",
       "79.0      8\n",
       "92.0      8\n",
       "62.0      8\n",
       "58.0      8\n",
       "57.0      8\n",
       "85.0      7\n",
       "73.0      7\n",
       "Name: exam1, dtype: int64"
      ]
     },
     "execution_count": 13,
     "metadata": {},
     "output_type": "execute_result"
    }
   ],
   "source": [
    "df['exam1'].value_counts()"
   ]
  },
  {
   "cell_type": "code",
   "execution_count": 14,
   "id": "57bb595f",
   "metadata": {},
   "outputs": [],
   "source": [
    "df['exam1'] = df.exam1.astype(int)\n",
    "df['exam3'] = df.exam3.astype(int)"
   ]
  },
  {
   "cell_type": "code",
   "execution_count": 15,
   "id": "b249512f",
   "metadata": {},
   "outputs": [
    {
     "name": "stdout",
     "output_type": "stream",
     "text": [
      "<class 'pandas.core.frame.DataFrame'>\n",
      "Int64Index: 102 entries, 0 to 103\n",
      "Data columns (total 7 columns):\n",
      " #   Column        Non-Null Count  Dtype\n",
      "---  ------        --------------  -----\n",
      " 0   Unnamed: 0.2  102 non-null    int64\n",
      " 1   Unnamed: 0.1  102 non-null    int64\n",
      " 2   Unnamed: 0    102 non-null    int64\n",
      " 3   exam1         102 non-null    int64\n",
      " 4   exam2         102 non-null    int64\n",
      " 5   exam3         102 non-null    int64\n",
      " 6   final_grade   102 non-null    int64\n",
      "dtypes: int64(7)\n",
      "memory usage: 6.4 KB\n"
     ]
    }
   ],
   "source": [
    "df.info()"
   ]
  },
  {
   "cell_type": "code",
   "execution_count": 16,
   "id": "300b82b1",
   "metadata": {},
   "outputs": [],
   "source": [
    "def clean_student_grades(df):\n",
    "    '''\n",
    "    clean_student_grades(df) takes in a single pandas dataframe\n",
    "    removed the student id columns, removes records with null values, and cast any floats\n",
    "    into integers.Returns a clead df.\n",
    "    '''\n",
    "    #drops student_id column\n",
    "    df = df.drop(columns='student_id')\n",
    "    #drops na values \n",
    "    df = df.dropna()\n",
    "    #turn whole df into a integer. float values match int values\n",
    "    df = df.astype(int)\n",
    "    return df"
   ]
  },
  {
   "cell_type": "code",
   "execution_count": 17,
   "id": "1a7c3d76",
   "metadata": {},
   "outputs": [],
   "source": [
    "def split_my_students(df):\n",
    "    '''\n",
    "    split_my_students(df) takes in a a clean dataframe, referencing the cleaned\n",
    "    version of student data. Split the data into train, validate, test\n",
    "    \n",
    "    pass df as an arguement in the function \n",
    "    returns: train, validate, test: three pandas dataframes\n",
    "    '''\n",
    "    train_val, test = train_test_split(df, random_state=1349, train_size=0.7)\n",
    "    \n",
    "    train, validate = train_test_split(train_val, random_state=1349, train_size=.10)\n",
    "    \n",
    "    return train, validate, test"
   ]
  },
  {
   "cell_type": "code",
   "execution_count": 18,
   "id": "09689c39",
   "metadata": {},
   "outputs": [],
   "source": [
    "def wrangle_grades():\n",
    "    '''\n",
    "    wrangle_grades does the split and clean and returns the data'''\n",
    "    return split_my_students(\n",
    "        clean_student_grades(\n",
    "            aquire_student_grades()))"
   ]
  },
  {
   "cell_type": "code",
   "execution_count": 19,
   "id": "16f0df3f",
   "metadata": {},
   "outputs": [],
   "source": [
    "train, validate, test = wrangle_grades()"
   ]
  },
  {
   "cell_type": "code",
   "execution_count": 20,
   "id": "42436fd7",
   "metadata": {},
   "outputs": [
    {
     "data": {
      "text/plain": [
       "((7, 7), (64, 7), (31, 7))"
      ]
     },
     "execution_count": 20,
     "metadata": {},
     "output_type": "execute_result"
    }
   ],
   "source": [
    "train.shape, validate.shape, test.shape"
   ]
  },
  {
   "cell_type": "code",
   "execution_count": null,
   "id": "1fa4c362",
   "metadata": {},
   "outputs": [],
   "source": []
  },
  {
   "cell_type": "code",
   "execution_count": null,
   "id": "e3229ad0",
   "metadata": {},
   "outputs": [],
   "source": []
  }
 ],
 "metadata": {
  "kernelspec": {
   "display_name": "Python 3 (ipykernel)",
   "language": "python",
   "name": "python3"
  },
  "language_info": {
   "codemirror_mode": {
    "name": "ipython",
    "version": 3
   },
   "file_extension": ".py",
   "mimetype": "text/x-python",
   "name": "python",
   "nbconvert_exporter": "python",
   "pygments_lexer": "ipython3",
   "version": "3.9.13"
  }
 },
 "nbformat": 4,
 "nbformat_minor": 5
}
