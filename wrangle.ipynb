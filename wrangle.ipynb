{
 "cells": [
  {
   "cell_type": "code",
   "execution_count": 1,
   "id": "a756a917",
   "metadata": {},
   "outputs": [],
   "source": [
    "import numpy as np\n",
    "import seaborn as sns\n",
    "import scipy.stats as stats\n",
    "import pandas as pd\n",
    "import matplotlib.pyplot as plt\n",
    "from pydataset import data\n",
    "import os\n",
    "from acquire import get_titanic_data\n",
    "from prepare import clean_titanic\n",
    "from env import host,db,protocol,password,user,mysqlcon\n",
    "import wrangle\n",
    "from sklearn.model_selection import train_test_split\n",
    "from sklearn.impute import SimpleImputer\n",
    "\n",
    "import sklearn.metrics\n",
    "from sklearn.metrics import confusion_matrix\n",
    "from sklearn.metrics import recall_score\n",
    "from sklearn.metrics import classification_report\n",
    "from sklearn.metrics import precision_score\n",
    "from sklearn.metrics import accuracy_score\n",
    "import acquire\n",
    "from sklearn.tree import DecisionTreeClassifier, plot_tree, export_text\n",
    "from sklearn.preprocessing import LabelEncoder"
   ]
  },
  {
   "cell_type": "markdown",
   "id": "6db73c3d",
   "metadata": {},
   "source": [
    "### Lesson on Regression & Regression Exercise"
   ]
  },
  {
   "cell_type": "code",
   "execution_count": 2,
   "id": "b2e9c34c",
   "metadata": {},
   "outputs": [
    {
     "data": {
      "text/plain": [
       "True"
      ]
     },
     "execution_count": 2,
     "metadata": {},
     "output_type": "execute_result"
    }
   ],
   "source": [
    "filename = \"student_grades.csv\"\n",
    "os.path.isfile(filename)"
   ]
  },
  {
   "cell_type": "code",
   "execution_count": 3,
   "id": "7d262fb6",
   "metadata": {},
   "outputs": [],
   "source": [
    "def aquire_student_grades():\n",
    "    filename = \"student_grades.csv\"\n",
    "\n",
    "    mysqlcon=f\"{protocol}://{user}:{password}@{host}/{db}\"\n",
    "\n",
    "    if os.path.isfile(filename):\n",
    "        df = pd.read_csv(filename)\n",
    "        \n",
    "      # Write that dataframe to disk for later. Called \"caching\" the data for later.\n",
    "        df.to_csv(filename)\n",
    "        return df\n",
    "    \n",
    "  \n"
   ]
  },
  {
   "cell_type": "code",
   "execution_count": null,
   "id": "1db00bf6",
   "metadata": {},
   "outputs": [],
   "source": []
  },
  {
   "cell_type": "code",
   "execution_count": 4,
   "id": "0052db48",
   "metadata": {},
   "outputs": [],
   "source": [
    "df=aquire_student_grades()"
   ]
  },
  {
   "cell_type": "code",
   "execution_count": 5,
   "id": "432dcb05",
   "metadata": {},
   "outputs": [],
   "source": [
    "df = pd.read_csv(filename)"
   ]
  },
  {
   "cell_type": "code",
   "execution_count": 6,
   "id": "e78c3c40",
   "metadata": {},
   "outputs": [],
   "source": [
    "df = df.drop(columns='student_id')"
   ]
  },
  {
   "cell_type": "code",
   "execution_count": 7,
   "id": "9d378b6d",
   "metadata": {},
   "outputs": [
    {
     "data": {
      "text/plain": [
       "Unnamed: 0.36    0\n",
       "Unnamed: 0.35    0\n",
       "Unnamed: 0.34    0\n",
       "Unnamed: 0.33    0\n",
       "Unnamed: 0.32    0\n",
       "Unnamed: 0.31    0\n",
       "Unnamed: 0.30    0\n",
       "Unnamed: 0.29    0\n",
       "Unnamed: 0.28    0\n",
       "Unnamed: 0.27    0\n",
       "Unnamed: 0.26    0\n",
       "Unnamed: 0.25    0\n",
       "Unnamed: 0.24    0\n",
       "Unnamed: 0.23    0\n",
       "Unnamed: 0.22    0\n",
       "Unnamed: 0.21    0\n",
       "Unnamed: 0.20    0\n",
       "Unnamed: 0.19    0\n",
       "Unnamed: 0.18    0\n",
       "Unnamed: 0.17    0\n",
       "Unnamed: 0.16    0\n",
       "Unnamed: 0.15    0\n",
       "Unnamed: 0.14    0\n",
       "Unnamed: 0.13    0\n",
       "Unnamed: 0.12    0\n",
       "Unnamed: 0.11    0\n",
       "Unnamed: 0.10    0\n",
       "Unnamed: 0.9     0\n",
       "Unnamed: 0.8     0\n",
       "Unnamed: 0.7     0\n",
       "Unnamed: 0.6     0\n",
       "Unnamed: 0.5     0\n",
       "Unnamed: 0.4     0\n",
       "Unnamed: 0.3     0\n",
       "Unnamed: 0.2     0\n",
       "Unnamed: 0.1     0\n",
       "Unnamed: 0       0\n",
       "exam1            1\n",
       "exam2            0\n",
       "exam3            1\n",
       "final_grade      0\n",
       "dtype: int64"
      ]
     },
     "execution_count": 7,
     "metadata": {},
     "output_type": "execute_result"
    }
   ],
   "source": [
    "df.isna().sum()"
   ]
  },
  {
   "cell_type": "code",
   "execution_count": 8,
   "id": "130af956",
   "metadata": {},
   "outputs": [
    {
     "data": {
      "text/plain": [
       "False    103\n",
       "True       1\n",
       "Name: exam3, dtype: int64"
      ]
     },
     "execution_count": 8,
     "metadata": {},
     "output_type": "execute_result"
    }
   ],
   "source": [
    "df['exam3'].isna().value_counts()"
   ]
  },
  {
   "cell_type": "code",
   "execution_count": 9,
   "id": "6a3f8108",
   "metadata": {},
   "outputs": [
    {
     "data": {
      "text/plain": [
       "False    103\n",
       "True       1\n",
       "Name: exam1, dtype: int64"
      ]
     },
     "execution_count": 9,
     "metadata": {},
     "output_type": "execute_result"
    }
   ],
   "source": [
    "df['exam1'].isna().value_counts()"
   ]
  },
  {
   "cell_type": "code",
   "execution_count": 10,
   "id": "ea0d3b0d",
   "metadata": {},
   "outputs": [
    {
     "data": {
      "text/plain": [
       "(102, 41)"
      ]
     },
     "execution_count": 10,
     "metadata": {},
     "output_type": "execute_result"
    }
   ],
   "source": [
    "df.dropna().shape"
   ]
  },
  {
   "cell_type": "code",
   "execution_count": 11,
   "id": "acad3379",
   "metadata": {},
   "outputs": [],
   "source": [
    "df = df.dropna()"
   ]
  },
  {
   "cell_type": "code",
   "execution_count": 12,
   "id": "6103c0c3",
   "metadata": {},
   "outputs": [
    {
     "name": "stdout",
     "output_type": "stream",
     "text": [
      "<class 'pandas.core.frame.DataFrame'>\n",
      "Int64Index: 102 entries, 0 to 103\n",
      "Data columns (total 41 columns):\n",
      " #   Column         Non-Null Count  Dtype  \n",
      "---  ------         --------------  -----  \n",
      " 0   Unnamed: 0.36  102 non-null    int64  \n",
      " 1   Unnamed: 0.35  102 non-null    int64  \n",
      " 2   Unnamed: 0.34  102 non-null    int64  \n",
      " 3   Unnamed: 0.33  102 non-null    int64  \n",
      " 4   Unnamed: 0.32  102 non-null    int64  \n",
      " 5   Unnamed: 0.31  102 non-null    int64  \n",
      " 6   Unnamed: 0.30  102 non-null    int64  \n",
      " 7   Unnamed: 0.29  102 non-null    int64  \n",
      " 8   Unnamed: 0.28  102 non-null    int64  \n",
      " 9   Unnamed: 0.27  102 non-null    int64  \n",
      " 10  Unnamed: 0.26  102 non-null    int64  \n",
      " 11  Unnamed: 0.25  102 non-null    int64  \n",
      " 12  Unnamed: 0.24  102 non-null    int64  \n",
      " 13  Unnamed: 0.23  102 non-null    int64  \n",
      " 14  Unnamed: 0.22  102 non-null    int64  \n",
      " 15  Unnamed: 0.21  102 non-null    int64  \n",
      " 16  Unnamed: 0.20  102 non-null    int64  \n",
      " 17  Unnamed: 0.19  102 non-null    int64  \n",
      " 18  Unnamed: 0.18  102 non-null    int64  \n",
      " 19  Unnamed: 0.17  102 non-null    int64  \n",
      " 20  Unnamed: 0.16  102 non-null    int64  \n",
      " 21  Unnamed: 0.15  102 non-null    int64  \n",
      " 22  Unnamed: 0.14  102 non-null    int64  \n",
      " 23  Unnamed: 0.13  102 non-null    int64  \n",
      " 24  Unnamed: 0.12  102 non-null    int64  \n",
      " 25  Unnamed: 0.11  102 non-null    int64  \n",
      " 26  Unnamed: 0.10  102 non-null    int64  \n",
      " 27  Unnamed: 0.9   102 non-null    int64  \n",
      " 28  Unnamed: 0.8   102 non-null    int64  \n",
      " 29  Unnamed: 0.7   102 non-null    int64  \n",
      " 30  Unnamed: 0.6   102 non-null    int64  \n",
      " 31  Unnamed: 0.5   102 non-null    int64  \n",
      " 32  Unnamed: 0.4   102 non-null    int64  \n",
      " 33  Unnamed: 0.3   102 non-null    int64  \n",
      " 34  Unnamed: 0.2   102 non-null    int64  \n",
      " 35  Unnamed: 0.1   102 non-null    int64  \n",
      " 36  Unnamed: 0     102 non-null    int64  \n",
      " 37  exam1          102 non-null    float64\n",
      " 38  exam2          102 non-null    int64  \n",
      " 39  exam3          102 non-null    float64\n",
      " 40  final_grade    102 non-null    int64  \n",
      "dtypes: float64(2), int64(39)\n",
      "memory usage: 33.5 KB\n"
     ]
    }
   ],
   "source": [
    "df.info()"
   ]
  },
  {
   "cell_type": "code",
   "execution_count": 13,
   "id": "7f2ca399",
   "metadata": {},
   "outputs": [
    {
     "data": {
      "text/plain": [
       "70.0     16\n",
       "100.0     8\n",
       "98.0      8\n",
       "83.0      8\n",
       "93.0      8\n",
       "79.0      8\n",
       "92.0      8\n",
       "62.0      8\n",
       "58.0      8\n",
       "57.0      8\n",
       "85.0      7\n",
       "73.0      7\n",
       "Name: exam1, dtype: int64"
      ]
     },
     "execution_count": 13,
     "metadata": {},
     "output_type": "execute_result"
    }
   ],
   "source": [
    "df['exam1'].value_counts()"
   ]
  },
  {
   "cell_type": "code",
   "execution_count": 14,
   "id": "57bb595f",
   "metadata": {},
   "outputs": [],
   "source": [
    "df['exam1'] = df.exam1.astype(int)\n",
    "df['exam3'] = df.exam3.astype(int)"
   ]
  },
  {
   "cell_type": "code",
   "execution_count": 15,
   "id": "b249512f",
   "metadata": {},
   "outputs": [
    {
     "name": "stdout",
     "output_type": "stream",
     "text": [
      "<class 'pandas.core.frame.DataFrame'>\n",
      "Int64Index: 102 entries, 0 to 103\n",
      "Data columns (total 41 columns):\n",
      " #   Column         Non-Null Count  Dtype\n",
      "---  ------         --------------  -----\n",
      " 0   Unnamed: 0.36  102 non-null    int64\n",
      " 1   Unnamed: 0.35  102 non-null    int64\n",
      " 2   Unnamed: 0.34  102 non-null    int64\n",
      " 3   Unnamed: 0.33  102 non-null    int64\n",
      " 4   Unnamed: 0.32  102 non-null    int64\n",
      " 5   Unnamed: 0.31  102 non-null    int64\n",
      " 6   Unnamed: 0.30  102 non-null    int64\n",
      " 7   Unnamed: 0.29  102 non-null    int64\n",
      " 8   Unnamed: 0.28  102 non-null    int64\n",
      " 9   Unnamed: 0.27  102 non-null    int64\n",
      " 10  Unnamed: 0.26  102 non-null    int64\n",
      " 11  Unnamed: 0.25  102 non-null    int64\n",
      " 12  Unnamed: 0.24  102 non-null    int64\n",
      " 13  Unnamed: 0.23  102 non-null    int64\n",
      " 14  Unnamed: 0.22  102 non-null    int64\n",
      " 15  Unnamed: 0.21  102 non-null    int64\n",
      " 16  Unnamed: 0.20  102 non-null    int64\n",
      " 17  Unnamed: 0.19  102 non-null    int64\n",
      " 18  Unnamed: 0.18  102 non-null    int64\n",
      " 19  Unnamed: 0.17  102 non-null    int64\n",
      " 20  Unnamed: 0.16  102 non-null    int64\n",
      " 21  Unnamed: 0.15  102 non-null    int64\n",
      " 22  Unnamed: 0.14  102 non-null    int64\n",
      " 23  Unnamed: 0.13  102 non-null    int64\n",
      " 24  Unnamed: 0.12  102 non-null    int64\n",
      " 25  Unnamed: 0.11  102 non-null    int64\n",
      " 26  Unnamed: 0.10  102 non-null    int64\n",
      " 27  Unnamed: 0.9   102 non-null    int64\n",
      " 28  Unnamed: 0.8   102 non-null    int64\n",
      " 29  Unnamed: 0.7   102 non-null    int64\n",
      " 30  Unnamed: 0.6   102 non-null    int64\n",
      " 31  Unnamed: 0.5   102 non-null    int64\n",
      " 32  Unnamed: 0.4   102 non-null    int64\n",
      " 33  Unnamed: 0.3   102 non-null    int64\n",
      " 34  Unnamed: 0.2   102 non-null    int64\n",
      " 35  Unnamed: 0.1   102 non-null    int64\n",
      " 36  Unnamed: 0     102 non-null    int64\n",
      " 37  exam1          102 non-null    int64\n",
      " 38  exam2          102 non-null    int64\n",
      " 39  exam3          102 non-null    int64\n",
      " 40  final_grade    102 non-null    int64\n",
      "dtypes: int64(41)\n",
      "memory usage: 33.5 KB\n"
     ]
    }
   ],
   "source": [
    "df.info()"
   ]
  },
  {
   "cell_type": "code",
   "execution_count": 16,
   "id": "300b82b1",
   "metadata": {},
   "outputs": [],
   "source": [
    "def clean_student_grades(df):\n",
    "    '''\n",
    "    clean_student_grades(df) takes in a single pandas dataframe\n",
    "    removed the student id columns, removes records with null values, and cast any floats\n",
    "    into integers.Returns a clead df.\n",
    "    '''\n",
    "    #drops student_id column\n",
    "    df = df.drop(columns='student_id')\n",
    "    #drops na values \n",
    "    df = df.dropna()\n",
    "    #turn whole df into a integer. float values match int values\n",
    "    df = df.astype(int)\n",
    "    return df"
   ]
  },
  {
   "cell_type": "code",
   "execution_count": 17,
   "id": "1a7c3d76",
   "metadata": {},
   "outputs": [],
   "source": [
    "def split_my_students(df):\n",
    "    '''\n",
    "    split_my_students(df) takes in a a clean dataframe, referencing the cleaned\n",
    "    version of student data. Split the data into train, validate, test\n",
    "    \n",
    "    pass df as an arguement in the function \n",
    "    returns: train, validate, test: three pandas dataframes\n",
    "    '''\n",
    "    train_val, test = train_test_split(df, random_state=1349, train_size=0.7)\n",
    "    \n",
    "    train, validate = train_test_split(train_val, random_state=1349, train_size=.10)\n",
    "    \n",
    "    return train, validate, test"
   ]
  },
  {
   "cell_type": "code",
   "execution_count": 18,
   "id": "09689c39",
   "metadata": {},
   "outputs": [],
   "source": [
    "def wrangle_grades():\n",
    "    '''\n",
    "    wrangle_grades does the split and clean and returns the data'''\n",
    "    return split_my_students(\n",
    "        clean_student_grades(\n",
    "            aquire_student_grades()))"
   ]
  },
  {
   "cell_type": "code",
   "execution_count": 19,
   "id": "16f0df3f",
   "metadata": {},
   "outputs": [],
   "source": [
    "train, validate, test = wrangle_grades()"
   ]
  },
  {
   "cell_type": "code",
   "execution_count": 20,
   "id": "42436fd7",
   "metadata": {},
   "outputs": [
    {
     "data": {
      "text/plain": [
       "((7, 41), (64, 41), (31, 41))"
      ]
     },
     "execution_count": 20,
     "metadata": {},
     "output_type": "execute_result"
    }
   ],
   "source": [
    "train.shape, validate.shape, test.shape"
   ]
  },
  {
   "cell_type": "code",
   "execution_count": null,
   "id": "1fa4c362",
   "metadata": {},
   "outputs": [],
   "source": []
  },
  {
   "cell_type": "markdown",
   "id": "33093b71",
   "metadata": {},
   "source": [
    "### Exercise Regression Zillow"
   ]
  },
  {
   "cell_type": "markdown",
   "id": "cc7a7dc0",
   "metadata": {},
   "source": [
    "## Acquire Data"
   ]
  },
  {
   "cell_type": "code",
   "execution_count": 21,
   "id": "faa100a2",
   "metadata": {},
   "outputs": [],
   "source": [
    "#pulled in data dictionary zillow data\n",
    "dd = pd.read_excel('zillow_data_dictionary.xlsx')"
   ]
  },
  {
   "cell_type": "code",
   "execution_count": 22,
   "id": "e95ce0e1",
   "metadata": {},
   "outputs": [
    {
     "data": {
      "text/html": [
       "<div>\n",
       "<style scoped>\n",
       "    .dataframe tbody tr th:only-of-type {\n",
       "        vertical-align: middle;\n",
       "    }\n",
       "\n",
       "    .dataframe tbody tr th {\n",
       "        vertical-align: top;\n",
       "    }\n",
       "\n",
       "    .dataframe thead th {\n",
       "        text-align: right;\n",
       "    }\n",
       "</style>\n",
       "<table border=\"1\" class=\"dataframe\">\n",
       "  <thead>\n",
       "    <tr style=\"text-align: right;\">\n",
       "      <th></th>\n",
       "      <th>Feature</th>\n",
       "      <th>Description</th>\n",
       "    </tr>\n",
       "  </thead>\n",
       "  <tbody>\n",
       "    <tr>\n",
       "      <th>0</th>\n",
       "      <td>'airconditioningtypeid'</td>\n",
       "      <td>Type of cooling system present in the home (if any)</td>\n",
       "    </tr>\n",
       "    <tr>\n",
       "      <th>1</th>\n",
       "      <td>'architecturalstyletypeid'</td>\n",
       "      <td>Architectural style of the home (i.e. ranch, colonial, split-level, etc…)</td>\n",
       "    </tr>\n",
       "    <tr>\n",
       "      <th>2</th>\n",
       "      <td>'basementsqft'</td>\n",
       "      <td>Finished living area below or partially below ground level</td>\n",
       "    </tr>\n",
       "    <tr>\n",
       "      <th>3</th>\n",
       "      <td>'bathroomcnt'</td>\n",
       "      <td>Number of bathrooms in home including fractional bathrooms</td>\n",
       "    </tr>\n",
       "    <tr>\n",
       "      <th>4</th>\n",
       "      <td>'bedroomcnt'</td>\n",
       "      <td>Number of bedrooms in home</td>\n",
       "    </tr>\n",
       "    <tr>\n",
       "      <th>5</th>\n",
       "      <td>'buildingqualitytypeid'</td>\n",
       "      <td>Overall assessment of condition of the building from best (lowest) to worst (highest)</td>\n",
       "    </tr>\n",
       "    <tr>\n",
       "      <th>6</th>\n",
       "      <td>'buildingclasstypeid'</td>\n",
       "      <td>The building framing type (steel frame, wood frame, concrete/brick)</td>\n",
       "    </tr>\n",
       "    <tr>\n",
       "      <th>7</th>\n",
       "      <td>'calculatedbathnbr'</td>\n",
       "      <td>Number of bathrooms in home including fractional bathroom</td>\n",
       "    </tr>\n",
       "    <tr>\n",
       "      <th>8</th>\n",
       "      <td>'decktypeid'</td>\n",
       "      <td>Type of deck (if any) present on parcel</td>\n",
       "    </tr>\n",
       "    <tr>\n",
       "      <th>9</th>\n",
       "      <td>'threequarterbathnbr'</td>\n",
       "      <td>Number of 3/4 bathrooms in house (shower + sink + toilet)</td>\n",
       "    </tr>\n",
       "    <tr>\n",
       "      <th>10</th>\n",
       "      <td>'finishedfloor1squarefeet'</td>\n",
       "      <td>Size of the finished living area on the first (entry) floor of the home</td>\n",
       "    </tr>\n",
       "    <tr>\n",
       "      <th>11</th>\n",
       "      <td>'calculatedfinishedsquarefeet'</td>\n",
       "      <td>Calculated total finished living area of the home</td>\n",
       "    </tr>\n",
       "    <tr>\n",
       "      <th>12</th>\n",
       "      <td>'finishedsquarefeet6'</td>\n",
       "      <td>Base unfinished and finished area</td>\n",
       "    </tr>\n",
       "    <tr>\n",
       "      <th>13</th>\n",
       "      <td>'finishedsquarefeet12'</td>\n",
       "      <td>Finished living area</td>\n",
       "    </tr>\n",
       "    <tr>\n",
       "      <th>14</th>\n",
       "      <td>'finishedsquarefeet13'</td>\n",
       "      <td>Perimeter  living area</td>\n",
       "    </tr>\n",
       "    <tr>\n",
       "      <th>15</th>\n",
       "      <td>'finishedsquarefeet15'</td>\n",
       "      <td>Total area</td>\n",
       "    </tr>\n",
       "    <tr>\n",
       "      <th>16</th>\n",
       "      <td>'finishedsquarefeet50'</td>\n",
       "      <td>Size of the finished living area on the first (entry) floor of the home</td>\n",
       "    </tr>\n",
       "    <tr>\n",
       "      <th>17</th>\n",
       "      <td>'fips'</td>\n",
       "      <td>Federal Information Processing Standard code -  see https://en.wikipedia.org/wiki/FIP...</td>\n",
       "    </tr>\n",
       "    <tr>\n",
       "      <th>18</th>\n",
       "      <td>'fireplacecnt'</td>\n",
       "      <td>Number of fireplaces in a home (if any)</td>\n",
       "    </tr>\n",
       "    <tr>\n",
       "      <th>19</th>\n",
       "      <td>'fireplaceflag'</td>\n",
       "      <td>Is a fireplace present in this home</td>\n",
       "    </tr>\n",
       "    <tr>\n",
       "      <th>20</th>\n",
       "      <td>'fullbathcnt'</td>\n",
       "      <td>Number of full bathrooms (sink, shower + bathtub, and toilet) present in home</td>\n",
       "    </tr>\n",
       "    <tr>\n",
       "      <th>21</th>\n",
       "      <td>'garagecarcnt'</td>\n",
       "      <td>Total number of garages on the lot including an attached garage</td>\n",
       "    </tr>\n",
       "    <tr>\n",
       "      <th>22</th>\n",
       "      <td>'garagetotalsqft'</td>\n",
       "      <td>Total number of square feet of all garages on lot including an attached garage</td>\n",
       "    </tr>\n",
       "    <tr>\n",
       "      <th>23</th>\n",
       "      <td>'hashottuborspa'</td>\n",
       "      <td>Does the home have a hot tub or spa</td>\n",
       "    </tr>\n",
       "    <tr>\n",
       "      <th>24</th>\n",
       "      <td>'heatingorsystemtypeid'</td>\n",
       "      <td>Type of home heating system</td>\n",
       "    </tr>\n",
       "    <tr>\n",
       "      <th>25</th>\n",
       "      <td>'latitude'</td>\n",
       "      <td>Latitude of the middle of the parcel multiplied by 10e6</td>\n",
       "    </tr>\n",
       "    <tr>\n",
       "      <th>26</th>\n",
       "      <td>'longitude'</td>\n",
       "      <td>Longitude of the middle of the parcel multiplied by 10e6</td>\n",
       "    </tr>\n",
       "    <tr>\n",
       "      <th>27</th>\n",
       "      <td>'lotsizesquarefeet'</td>\n",
       "      <td>Area of the lot in square feet</td>\n",
       "    </tr>\n",
       "    <tr>\n",
       "      <th>28</th>\n",
       "      <td>'numberofstories'</td>\n",
       "      <td>Number of stories or levels the home has</td>\n",
       "    </tr>\n",
       "    <tr>\n",
       "      <th>29</th>\n",
       "      <td>'parcelid'</td>\n",
       "      <td>Unique identifier for parcels (lots)</td>\n",
       "    </tr>\n",
       "    <tr>\n",
       "      <th>30</th>\n",
       "      <td>'poolcnt'</td>\n",
       "      <td>Number of pools on the lot (if any)</td>\n",
       "    </tr>\n",
       "    <tr>\n",
       "      <th>31</th>\n",
       "      <td>'poolsizesum'</td>\n",
       "      <td>Total square footage of all pools on property</td>\n",
       "    </tr>\n",
       "    <tr>\n",
       "      <th>32</th>\n",
       "      <td>'pooltypeid10'</td>\n",
       "      <td>Spa or Hot Tub</td>\n",
       "    </tr>\n",
       "    <tr>\n",
       "      <th>33</th>\n",
       "      <td>'pooltypeid2'</td>\n",
       "      <td>Pool with Spa/Hot Tub</td>\n",
       "    </tr>\n",
       "    <tr>\n",
       "      <th>34</th>\n",
       "      <td>'pooltypeid7'</td>\n",
       "      <td>Pool without hot tub</td>\n",
       "    </tr>\n",
       "    <tr>\n",
       "      <th>35</th>\n",
       "      <td>'propertycountylandusecode'</td>\n",
       "      <td>County land use code i.e. it's zoning at the county level</td>\n",
       "    </tr>\n",
       "    <tr>\n",
       "      <th>36</th>\n",
       "      <td>'propertylandusetypeid'</td>\n",
       "      <td>Type of land use the property is zoned for</td>\n",
       "    </tr>\n",
       "    <tr>\n",
       "      <th>37</th>\n",
       "      <td>'propertyzoningdesc'</td>\n",
       "      <td>Description of the allowed land uses (zoning) for that property</td>\n",
       "    </tr>\n",
       "    <tr>\n",
       "      <th>38</th>\n",
       "      <td>'rawcensustractandblock'</td>\n",
       "      <td>Census tract and block ID combined - also contains blockgroup assignment by extension</td>\n",
       "    </tr>\n",
       "    <tr>\n",
       "      <th>39</th>\n",
       "      <td>'censustractandblock'</td>\n",
       "      <td>Census tract and block ID combined - also contains blockgroup assignment by extension</td>\n",
       "    </tr>\n",
       "    <tr>\n",
       "      <th>40</th>\n",
       "      <td>'regionidcounty'</td>\n",
       "      <td>County in which the property is located</td>\n",
       "    </tr>\n",
       "    <tr>\n",
       "      <th>41</th>\n",
       "      <td>'regionidcity'</td>\n",
       "      <td>City in which the property is located (if any)</td>\n",
       "    </tr>\n",
       "    <tr>\n",
       "      <th>42</th>\n",
       "      <td>'regionidzip'</td>\n",
       "      <td>Zip code in which the property is located</td>\n",
       "    </tr>\n",
       "    <tr>\n",
       "      <th>43</th>\n",
       "      <td>'regionidneighborhood'</td>\n",
       "      <td>Neighborhood in which the property is located</td>\n",
       "    </tr>\n",
       "    <tr>\n",
       "      <th>44</th>\n",
       "      <td>'roomcnt'</td>\n",
       "      <td>Total number of rooms in the principal residence</td>\n",
       "    </tr>\n",
       "    <tr>\n",
       "      <th>45</th>\n",
       "      <td>'storytypeid'</td>\n",
       "      <td>Type of floors in a multi-story house (i.e. basement and main level, split-level, att...</td>\n",
       "    </tr>\n",
       "    <tr>\n",
       "      <th>46</th>\n",
       "      <td>'typeconstructiontypeid'</td>\n",
       "      <td>What type of construction material was used to construct the home</td>\n",
       "    </tr>\n",
       "    <tr>\n",
       "      <th>47</th>\n",
       "      <td>'unitcnt'</td>\n",
       "      <td>Number of units the structure is built into (i.e. 2 = duplex, 3 = triplex, etc...)</td>\n",
       "    </tr>\n",
       "    <tr>\n",
       "      <th>48</th>\n",
       "      <td>'yardbuildingsqft17'</td>\n",
       "      <td>Patio in  yard</td>\n",
       "    </tr>\n",
       "    <tr>\n",
       "      <th>49</th>\n",
       "      <td>'yardbuildingsqft26'</td>\n",
       "      <td>Storage shed/building in yard</td>\n",
       "    </tr>\n",
       "    <tr>\n",
       "      <th>50</th>\n",
       "      <td>'yearbuilt'</td>\n",
       "      <td>The Year the principal residence was built</td>\n",
       "    </tr>\n",
       "    <tr>\n",
       "      <th>51</th>\n",
       "      <td>'taxvaluedollarcnt'</td>\n",
       "      <td>The total tax assessed value of the parcel</td>\n",
       "    </tr>\n",
       "    <tr>\n",
       "      <th>52</th>\n",
       "      <td>'structuretaxvaluedollarcnt'</td>\n",
       "      <td>The assessed value of the built structure on the parcel</td>\n",
       "    </tr>\n",
       "    <tr>\n",
       "      <th>53</th>\n",
       "      <td>'landtaxvaluedollarcnt'</td>\n",
       "      <td>The assessed value of the land area of the parcel</td>\n",
       "    </tr>\n",
       "    <tr>\n",
       "      <th>54</th>\n",
       "      <td>'taxamount'</td>\n",
       "      <td>The total property tax assessed for that assessment year</td>\n",
       "    </tr>\n",
       "    <tr>\n",
       "      <th>55</th>\n",
       "      <td>'assessmentyear'</td>\n",
       "      <td>The year of the property tax assessment</td>\n",
       "    </tr>\n",
       "    <tr>\n",
       "      <th>56</th>\n",
       "      <td>'taxdelinquencyflag'</td>\n",
       "      <td>Property taxes for this parcel are past due as of 2015</td>\n",
       "    </tr>\n",
       "    <tr>\n",
       "      <th>57</th>\n",
       "      <td>'taxdelinquencyyear'</td>\n",
       "      <td>Year for which the unpaid propert taxes were due</td>\n",
       "    </tr>\n",
       "  </tbody>\n",
       "</table>\n",
       "</div>"
      ],
      "text/plain": [
       "                           Feature  \\\n",
       "0          'airconditioningtypeid'   \n",
       "1       'architecturalstyletypeid'   \n",
       "2                   'basementsqft'   \n",
       "3                    'bathroomcnt'   \n",
       "4                     'bedroomcnt'   \n",
       "5          'buildingqualitytypeid'   \n",
       "6            'buildingclasstypeid'   \n",
       "7              'calculatedbathnbr'   \n",
       "8                     'decktypeid'   \n",
       "9            'threequarterbathnbr'   \n",
       "10      'finishedfloor1squarefeet'   \n",
       "11  'calculatedfinishedsquarefeet'   \n",
       "12           'finishedsquarefeet6'   \n",
       "13          'finishedsquarefeet12'   \n",
       "14          'finishedsquarefeet13'   \n",
       "15          'finishedsquarefeet15'   \n",
       "16          'finishedsquarefeet50'   \n",
       "17                          'fips'   \n",
       "18                  'fireplacecnt'   \n",
       "19                 'fireplaceflag'   \n",
       "20                   'fullbathcnt'   \n",
       "21                  'garagecarcnt'   \n",
       "22               'garagetotalsqft'   \n",
       "23                'hashottuborspa'   \n",
       "24         'heatingorsystemtypeid'   \n",
       "25                      'latitude'   \n",
       "26                     'longitude'   \n",
       "27             'lotsizesquarefeet'   \n",
       "28               'numberofstories'   \n",
       "29                      'parcelid'   \n",
       "30                       'poolcnt'   \n",
       "31                   'poolsizesum'   \n",
       "32                  'pooltypeid10'   \n",
       "33                   'pooltypeid2'   \n",
       "34                   'pooltypeid7'   \n",
       "35     'propertycountylandusecode'   \n",
       "36         'propertylandusetypeid'   \n",
       "37            'propertyzoningdesc'   \n",
       "38        'rawcensustractandblock'   \n",
       "39           'censustractandblock'   \n",
       "40                'regionidcounty'   \n",
       "41                  'regionidcity'   \n",
       "42                   'regionidzip'   \n",
       "43          'regionidneighborhood'   \n",
       "44                       'roomcnt'   \n",
       "45                   'storytypeid'   \n",
       "46        'typeconstructiontypeid'   \n",
       "47                       'unitcnt'   \n",
       "48            'yardbuildingsqft17'   \n",
       "49            'yardbuildingsqft26'   \n",
       "50                     'yearbuilt'   \n",
       "51             'taxvaluedollarcnt'   \n",
       "52    'structuretaxvaluedollarcnt'   \n",
       "53         'landtaxvaluedollarcnt'   \n",
       "54                     'taxamount'   \n",
       "55                'assessmentyear'   \n",
       "56            'taxdelinquencyflag'   \n",
       "57            'taxdelinquencyyear'   \n",
       "\n",
       "                                                                                  Description  \n",
       "0                                         Type of cooling system present in the home (if any)  \n",
       "1                   Architectural style of the home (i.e. ranch, colonial, split-level, etc…)  \n",
       "2                                  Finished living area below or partially below ground level  \n",
       "3                                  Number of bathrooms in home including fractional bathrooms  \n",
       "4                                                                 Number of bedrooms in home   \n",
       "5       Overall assessment of condition of the building from best (lowest) to worst (highest)  \n",
       "6                        The building framing type (steel frame, wood frame, concrete/brick)   \n",
       "7                                   Number of bathrooms in home including fractional bathroom  \n",
       "8                                                     Type of deck (if any) present on parcel  \n",
       "9                                   Number of 3/4 bathrooms in house (shower + sink + toilet)  \n",
       "10                    Size of the finished living area on the first (entry) floor of the home  \n",
       "11                                         Calculated total finished living area of the home   \n",
       "12                                                          Base unfinished and finished area  \n",
       "13                                                                       Finished living area  \n",
       "14                                                                     Perimeter  living area  \n",
       "15                                                                                 Total area  \n",
       "16                    Size of the finished living area on the first (entry) floor of the home  \n",
       "17   Federal Information Processing Standard code -  see https://en.wikipedia.org/wiki/FIP...  \n",
       "18                                                    Number of fireplaces in a home (if any)  \n",
       "19                                                       Is a fireplace present in this home   \n",
       "20              Number of full bathrooms (sink, shower + bathtub, and toilet) present in home  \n",
       "21                            Total number of garages on the lot including an attached garage  \n",
       "22             Total number of square feet of all garages on lot including an attached garage  \n",
       "23                                                        Does the home have a hot tub or spa  \n",
       "24                                                                Type of home heating system  \n",
       "25                                    Latitude of the middle of the parcel multiplied by 10e6  \n",
       "26                                   Longitude of the middle of the parcel multiplied by 10e6  \n",
       "27                                                             Area of the lot in square feet  \n",
       "28                                                   Number of stories or levels the home has  \n",
       "29                                                      Unique identifier for parcels (lots)   \n",
       "30                                                        Number of pools on the lot (if any)  \n",
       "31                                              Total square footage of all pools on property  \n",
       "32                                                                             Spa or Hot Tub  \n",
       "33                                                                      Pool with Spa/Hot Tub  \n",
       "34                                                                       Pool without hot tub  \n",
       "35                                  County land use code i.e. it's zoning at the county level  \n",
       "36                                                 Type of land use the property is zoned for  \n",
       "37                            Description of the allowed land uses (zoning) for that property  \n",
       "38      Census tract and block ID combined - also contains blockgroup assignment by extension  \n",
       "39      Census tract and block ID combined - also contains blockgroup assignment by extension  \n",
       "40                                                    County in which the property is located  \n",
       "41                                             City in which the property is located (if any)  \n",
       "42                                                  Zip code in which the property is located  \n",
       "43                                              Neighborhood in which the property is located  \n",
       "44                                           Total number of rooms in the principal residence  \n",
       "45   Type of floors in a multi-story house (i.e. basement and main level, split-level, att...  \n",
       "46                          What type of construction material was used to construct the home  \n",
       "47         Number of units the structure is built into (i.e. 2 = duplex, 3 = triplex, etc...)  \n",
       "48                                                                             Patio in  yard  \n",
       "49                                                              Storage shed/building in yard  \n",
       "50                                                The Year the principal residence was built   \n",
       "51                                                 The total tax assessed value of the parcel  \n",
       "52                                    The assessed value of the built structure on the parcel  \n",
       "53                                          The assessed value of the land area of the parcel  \n",
       "54                                   The total property tax assessed for that assessment year  \n",
       "55                                                   The year of the property tax assessment   \n",
       "56                                     Property taxes for this parcel are past due as of 2015  \n",
       "57                                          Year for which the unpaid propert taxes were due   "
      ]
     },
     "execution_count": 22,
     "metadata": {},
     "output_type": "execute_result"
    }
   ],
   "source": [
    "dd"
   ]
  },
  {
   "cell_type": "code",
   "execution_count": 23,
   "id": "6094f31c",
   "metadata": {},
   "outputs": [],
   "source": [
    "def get_zillow_data():\n",
    "    filename = \"zillow_exc.csv\"\n",
    "    mysqlcon=f\"{protocol}://{user}:{password}@{host}/zillow\"\n",
    "    #if the file exist read the file on the machine \n",
    "    if os.path.isfile(filename):\n",
    "        #reads file name to pd and sets first column as index\n",
    "        return pd.read_csv(filename, index_col=0)\n",
    "    #if the file doesnt exit pull the data from mysql workbench database\n",
    "    else:\n",
    "        # read the SQL query into a dataframe\n",
    "        df = pd.read_sql_query('''\n",
    "            \n",
    "SELECT bedroomcnt, bathroomcnt, calculatedfinishedsquarefeet, taxvaluedollarcnt, yearbuilt, taxamount, fips\n",
    "FROM properties_2017\n",
    "LEFT JOIN propertylandusetype USING(propertylandusetypeid)\n",
    "WHERE propertylandusedesc IN (\"Single Family Residential\",                       \n",
    "                              \"Inferred Single Family Residential\")''', mysqlcon)\n",
    "\n",
    "        # Write that dataframe to disk for later. Called \"caching\" the data for later.\n",
    "        df.to_csv(filename)\n",
    "        #index_col = 0 set first column as the index\n",
    "        df = pd.read_csv(filename, index_col=0)\n",
    "\n",
    "        # Return the dataframe to the calling code\n",
    "        return df\n"
   ]
  },
  {
   "cell_type": "code",
   "execution_count": 24,
   "id": "40fd10f5",
   "metadata": {},
   "outputs": [],
   "source": [
    "df = get_zillow_data()"
   ]
  },
  {
   "cell_type": "code",
   "execution_count": 25,
   "id": "3111cf2e",
   "metadata": {},
   "outputs": [
    {
     "data": {
      "text/html": [
       "<div>\n",
       "<style scoped>\n",
       "    .dataframe tbody tr th:only-of-type {\n",
       "        vertical-align: middle;\n",
       "    }\n",
       "\n",
       "    .dataframe tbody tr th {\n",
       "        vertical-align: top;\n",
       "    }\n",
       "\n",
       "    .dataframe thead th {\n",
       "        text-align: right;\n",
       "    }\n",
       "</style>\n",
       "<table border=\"1\" class=\"dataframe\">\n",
       "  <thead>\n",
       "    <tr style=\"text-align: right;\">\n",
       "      <th></th>\n",
       "      <th>bedroomcnt</th>\n",
       "      <th>bathroomcnt</th>\n",
       "      <th>calculatedfinishedsquarefeet</th>\n",
       "      <th>taxvaluedollarcnt</th>\n",
       "      <th>yearbuilt</th>\n",
       "      <th>taxamount</th>\n",
       "      <th>fips</th>\n",
       "    </tr>\n",
       "  </thead>\n",
       "  <tbody>\n",
       "    <tr>\n",
       "      <th>0</th>\n",
       "      <td>0.0</td>\n",
       "      <td>0.0</td>\n",
       "      <td>NaN</td>\n",
       "      <td>27516.0</td>\n",
       "      <td>NaN</td>\n",
       "      <td>NaN</td>\n",
       "      <td>6037.0</td>\n",
       "    </tr>\n",
       "    <tr>\n",
       "      <th>1</th>\n",
       "      <td>0.0</td>\n",
       "      <td>0.0</td>\n",
       "      <td>NaN</td>\n",
       "      <td>10.0</td>\n",
       "      <td>NaN</td>\n",
       "      <td>NaN</td>\n",
       "      <td>6037.0</td>\n",
       "    </tr>\n",
       "    <tr>\n",
       "      <th>2</th>\n",
       "      <td>0.0</td>\n",
       "      <td>0.0</td>\n",
       "      <td>NaN</td>\n",
       "      <td>10.0</td>\n",
       "      <td>NaN</td>\n",
       "      <td>NaN</td>\n",
       "      <td>6037.0</td>\n",
       "    </tr>\n",
       "    <tr>\n",
       "      <th>3</th>\n",
       "      <td>0.0</td>\n",
       "      <td>0.0</td>\n",
       "      <td>NaN</td>\n",
       "      <td>2108.0</td>\n",
       "      <td>NaN</td>\n",
       "      <td>174.21</td>\n",
       "      <td>6037.0</td>\n",
       "    </tr>\n",
       "    <tr>\n",
       "      <th>4</th>\n",
       "      <td>4.0</td>\n",
       "      <td>2.0</td>\n",
       "      <td>3633.0</td>\n",
       "      <td>296425.0</td>\n",
       "      <td>2005.0</td>\n",
       "      <td>6941.39</td>\n",
       "      <td>6037.0</td>\n",
       "    </tr>\n",
       "    <tr>\n",
       "      <th>...</th>\n",
       "      <td>...</td>\n",
       "      <td>...</td>\n",
       "      <td>...</td>\n",
       "      <td>...</td>\n",
       "      <td>...</td>\n",
       "      <td>...</td>\n",
       "      <td>...</td>\n",
       "    </tr>\n",
       "    <tr>\n",
       "      <th>2152859</th>\n",
       "      <td>4.0</td>\n",
       "      <td>3.0</td>\n",
       "      <td>2262.0</td>\n",
       "      <td>960756.0</td>\n",
       "      <td>2015.0</td>\n",
       "      <td>13494.52</td>\n",
       "      <td>6059.0</td>\n",
       "    </tr>\n",
       "    <tr>\n",
       "      <th>2152860</th>\n",
       "      <td>4.0</td>\n",
       "      <td>4.5</td>\n",
       "      <td>3127.0</td>\n",
       "      <td>536061.0</td>\n",
       "      <td>2014.0</td>\n",
       "      <td>6244.16</td>\n",
       "      <td>6059.0</td>\n",
       "    </tr>\n",
       "    <tr>\n",
       "      <th>2152861</th>\n",
       "      <td>0.0</td>\n",
       "      <td>0.0</td>\n",
       "      <td>NaN</td>\n",
       "      <td>208057.0</td>\n",
       "      <td>NaN</td>\n",
       "      <td>5783.88</td>\n",
       "      <td>6059.0</td>\n",
       "    </tr>\n",
       "    <tr>\n",
       "      <th>2152862</th>\n",
       "      <td>3.0</td>\n",
       "      <td>2.5</td>\n",
       "      <td>1974.0</td>\n",
       "      <td>424353.0</td>\n",
       "      <td>2015.0</td>\n",
       "      <td>5302.70</td>\n",
       "      <td>6059.0</td>\n",
       "    </tr>\n",
       "    <tr>\n",
       "      <th>2152863</th>\n",
       "      <td>4.0</td>\n",
       "      <td>4.0</td>\n",
       "      <td>2110.0</td>\n",
       "      <td>554009.0</td>\n",
       "      <td>2014.0</td>\n",
       "      <td>6761.20</td>\n",
       "      <td>6037.0</td>\n",
       "    </tr>\n",
       "  </tbody>\n",
       "</table>\n",
       "<p>2152864 rows × 7 columns</p>\n",
       "</div>"
      ],
      "text/plain": [
       "         bedroomcnt  bathroomcnt  calculatedfinishedsquarefeet  \\\n",
       "0               0.0          0.0                           NaN   \n",
       "1               0.0          0.0                           NaN   \n",
       "2               0.0          0.0                           NaN   \n",
       "3               0.0          0.0                           NaN   \n",
       "4               4.0          2.0                        3633.0   \n",
       "...             ...          ...                           ...   \n",
       "2152859         4.0          3.0                        2262.0   \n",
       "2152860         4.0          4.5                        3127.0   \n",
       "2152861         0.0          0.0                           NaN   \n",
       "2152862         3.0          2.5                        1974.0   \n",
       "2152863         4.0          4.0                        2110.0   \n",
       "\n",
       "         taxvaluedollarcnt  yearbuilt  taxamount    fips  \n",
       "0                  27516.0        NaN        NaN  6037.0  \n",
       "1                     10.0        NaN        NaN  6037.0  \n",
       "2                     10.0        NaN        NaN  6037.0  \n",
       "3                   2108.0        NaN     174.21  6037.0  \n",
       "4                 296425.0     2005.0    6941.39  6037.0  \n",
       "...                    ...        ...        ...     ...  \n",
       "2152859           960756.0     2015.0   13494.52  6059.0  \n",
       "2152860           536061.0     2014.0    6244.16  6059.0  \n",
       "2152861           208057.0        NaN    5783.88  6059.0  \n",
       "2152862           424353.0     2015.0    5302.70  6059.0  \n",
       "2152863           554009.0     2014.0    6761.20  6037.0  \n",
       "\n",
       "[2152864 rows x 7 columns]"
      ]
     },
     "execution_count": 25,
     "metadata": {},
     "output_type": "execute_result"
    }
   ],
   "source": [
    "df"
   ]
  },
  {
   "cell_type": "code",
   "execution_count": 26,
   "id": "da3f6f50",
   "metadata": {},
   "outputs": [],
   "source": [
    "#renaming columns in the dataframe\n",
    "df = df.rename(columns = {'bedroomcnt':'bedrooms', \n",
    "                                  'bathroomcnt':'bathrooms', \n",
    "                                  'calculatedfinishedsquarefeet':'area',\n",
    "                                  'taxvaluedollarcnt':'tax_value', \n",
    "                                  'yearbuilt':'year_built',})"
   ]
  },
  {
   "cell_type": "code",
   "execution_count": 27,
   "id": "fda22b0c",
   "metadata": {},
   "outputs": [],
   "source": [
    "#Replace a whitespace sequence or empty with a NaN value and reassign this manipulation to df.\n",
    "#df = df.replace(r'^\\s*$', np.nan, regex=True)"
   ]
  },
  {
   "cell_type": "code",
   "execution_count": null,
   "id": "7093c27c",
   "metadata": {},
   "outputs": [],
   "source": []
  },
  {
   "cell_type": "code",
   "execution_count": null,
   "id": "884eafae",
   "metadata": {},
   "outputs": [],
   "source": []
  },
  {
   "cell_type": "code",
   "execution_count": null,
   "id": "7500fb09",
   "metadata": {},
   "outputs": [],
   "source": []
  },
  {
   "cell_type": "markdown",
   "id": "6baa14fd",
   "metadata": {},
   "source": [
    "## Manage Null Values "
   ]
  },
  {
   "cell_type": "code",
   "execution_count": null,
   "id": "d981179f",
   "metadata": {},
   "outputs": [],
   "source": []
  },
  {
   "cell_type": "code",
   "execution_count": 28,
   "id": "4ae097a0",
   "metadata": {},
   "outputs": [
    {
     "data": {
      "text/plain": [
       "bedrooms        11\n",
       "bathrooms       11\n",
       "area          8485\n",
       "tax_value      493\n",
       "year_built    9338\n",
       "taxamount     4442\n",
       "fips             0\n",
       "dtype: int64"
      ]
     },
     "execution_count": 28,
     "metadata": {},
     "output_type": "execute_result"
    }
   ],
   "source": [
    "#checked for missing values in targeted columns\n",
    "df.isna().sum()"
   ]
  },
  {
   "cell_type": "markdown",
   "id": "ff40beda",
   "metadata": {},
   "source": [
    "### Reminders!\n",
    "*lots of outliers in some columns\n",
    "*real estate data can be heavily skewed\n",
    "*can removing outliers reduce null value count"
   ]
  },
  {
   "cell_type": "code",
   "execution_count": null,
   "id": "b3820502",
   "metadata": {},
   "outputs": [],
   "source": []
  },
  {
   "cell_type": "code",
   "execution_count": 29,
   "id": "06da4b73",
   "metadata": {},
   "outputs": [],
   "source": [
    "## Visualize Distribution & Outliers"
   ]
  },
  {
   "cell_type": "code",
   "execution_count": 30,
   "id": "2707979f",
   "metadata": {},
   "outputs": [
    {
     "data": {
      "text/plain": [
       "Index(['bedrooms', 'bathrooms', 'area', 'tax_value', 'year_built', 'taxamount',\n",
       "       'fips'],\n",
       "      dtype='object')"
      ]
     },
     "execution_count": 30,
     "metadata": {},
     "output_type": "execute_result"
    }
   ],
   "source": [
    "df.columns"
   ]
  },
  {
   "cell_type": "code",
   "execution_count": 31,
   "id": "482c451e",
   "metadata": {},
   "outputs": [
    {
     "data": {
      "text/plain": [
       "6037.0    1431812\n",
       "6059.0     555077\n",
       "6111.0     165975\n",
       "Name: fips, dtype: int64"
      ]
     },
     "execution_count": 31,
     "metadata": {},
     "output_type": "execute_result"
    }
   ],
   "source": [
    "df.fips.value_counts()"
   ]
  },
  {
   "cell_type": "code",
   "execution_count": 32,
   "id": "106cdc42",
   "metadata": {},
   "outputs": [
    {
     "data": {
      "text/plain": [
       "1955.0    84405\n",
       "1950.0    71693\n",
       "1954.0    69163\n",
       "1953.0    62342\n",
       "1956.0    61942\n",
       "1951.0    53355\n",
       "1964.0    52428\n",
       "1952.0    50726\n",
       "1947.0    46817\n",
       "1948.0    45433\n",
       "1963.0    44211\n",
       "1949.0    43182\n",
       "1959.0    43118\n",
       "1957.0    43023\n",
       "1962.0    42680\n",
       "1965.0    40895\n",
       "1960.0    38014\n",
       "1961.0    35347\n",
       "1958.0    34230\n",
       "1977.0    32718\n",
       "1976.0    30650\n",
       "1968.0    27898\n",
       "1972.0    27698\n",
       "1941.0    27086\n",
       "1989.0    27064\n",
       "1969.0    26945\n",
       "1973.0    26611\n",
       "1971.0    26126\n",
       "1940.0    26030\n",
       "1978.0    25766\n",
       "1987.0    25318\n",
       "1979.0    24290\n",
       "1966.0    23752\n",
       "1923.0    21981\n",
       "1924.0    21535\n",
       "1939.0    20775\n",
       "1990.0    20761\n",
       "1986.0    20320\n",
       "1970.0    20306\n",
       "1925.0    20183\n",
       "1926.0    18561\n",
       "1946.0    18293\n",
       "1985.0    17761\n",
       "1988.0    17697\n",
       "1974.0    17660\n",
       "1967.0    17207\n",
       "1980.0    16630\n",
       "1975.0    16096\n",
       "1942.0    16016\n",
       "1922.0    15853\n",
       "1938.0    15553\n",
       "1984.0    14977\n",
       "2001.0    14786\n",
       "2000.0    14586\n",
       "1927.0    14539\n",
       "1999.0    14446\n",
       "1928.0    14115\n",
       "2005.0    13858\n",
       "1944.0    13380\n",
       "2003.0    13262\n",
       "1998.0    12648\n",
       "1994.0    12601\n",
       "1937.0    12560\n",
       "2002.0    12511\n",
       "2004.0    12209\n",
       "1997.0    11900\n",
       "1981.0    11641\n",
       "1983.0    11539\n",
       "1929.0    11362\n",
       "2006.0    11309\n",
       "1992.0    11088\n",
       "1996.0    10933\n",
       "1995.0    10330\n",
       "1936.0     9934\n",
       "1930.0     9741\n",
       "1991.0     9658\n",
       "1993.0     9601\n",
       "1921.0     9502\n",
       "1945.0     8312\n",
       "2007.0     7978\n",
       "1920.0     7820\n",
       "1943.0     6613\n",
       "1912.0     6010\n",
       "1982.0     5778\n",
       "1910.0     5643\n",
       "1931.0     5450\n",
       "1935.0     4914\n",
       "2013.0     4784\n",
       "2014.0     4714\n",
       "2008.0     4510\n",
       "1911.0     4022\n",
       "1913.0     3997\n",
       "1932.0     3611\n",
       "2015.0     3556\n",
       "2012.0     3438\n",
       "1914.0     3268\n",
       "1908.0     3133\n",
       "2009.0     3063\n",
       "1905.0     2890\n",
       "1915.0     2879\n",
       "1919.0     2858\n",
       "1909.0     2847\n",
       "2010.0     2787\n",
       "2011.0     2753\n",
       "1933.0     2725\n",
       "1907.0     2486\n",
       "1934.0     2399\n",
       "1906.0     2176\n",
       "1916.0     2129\n",
       "1918.0     1792\n",
       "1917.0     1583\n",
       "1901.0     1238\n",
       "1903.0     1154\n",
       "1904.0     1038\n",
       "1902.0      682\n",
       "1900.0      677\n",
       "1895.0      569\n",
       "1890.0      539\n",
       "1898.0      256\n",
       "1885.0      172\n",
       "1899.0      139\n",
       "1897.0      135\n",
       "1896.0      128\n",
       "1894.0      103\n",
       "2016.0       98\n",
       "1893.0       91\n",
       "1888.0       88\n",
       "1887.0       78\n",
       "1892.0       65\n",
       "1880.0       39\n",
       "1886.0       33\n",
       "1891.0       31\n",
       "1889.0       30\n",
       "1884.0       14\n",
       "1875.0       10\n",
       "1883.0        8\n",
       "1882.0        6\n",
       "1881.0        4\n",
       "1870.0        3\n",
       "1801.0        3\n",
       "1812.0        2\n",
       "1865.0        2\n",
       "1876.0        2\n",
       "1878.0        2\n",
       "1862.0        1\n",
       "1807.0        1\n",
       "1877.0        1\n",
       "1833.0        1\n",
       "1823.0        1\n",
       "1855.0        1\n",
       "1879.0        1\n",
       "1840.0        1\n",
       "1874.0        1\n",
       "Name: year_built, dtype: int64"
      ]
     },
     "execution_count": 32,
     "metadata": {},
     "output_type": "execute_result"
    }
   ],
   "source": [
    "df.year_built.value_counts()"
   ]
  },
  {
   "cell_type": "code",
   "execution_count": 33,
   "id": "3d0e22ff",
   "metadata": {},
   "outputs": [],
   "source": [
    "#interpret fips and year as descreet categories right now\n",
    "#using other features for analysis.\n",
    "cols = [col for col in df.columns if col not in ['fips', 'year_built']]"
   ]
  },
  {
   "cell_type": "code",
   "execution_count": 34,
   "id": "0b63459b",
   "metadata": {},
   "outputs": [
    {
     "data": {
      "text/plain": [
       "['bedrooms', 'bathrooms', 'area', 'tax_value', 'taxamount']"
      ]
     },
     "execution_count": 34,
     "metadata": {},
     "output_type": "execute_result"
    }
   ],
   "source": [
    "cols"
   ]
  },
  {
   "cell_type": "code",
   "execution_count": 35,
   "id": "76c2828d",
   "metadata": {},
   "outputs": [
    {
     "data": {
      "image/png": "[encoded data removed]",
      "text/plain": [
       "<Figure size 2000x1000 with 5 Axes>"
      ]
     },
     "metadata": {},
     "output_type": "display_data"
    }
   ],
   "source": [
    "plt.figure(figsize=(20,10))\n",
    "for i, col in enumerate(cols):\n",
    "    #plot numbers start at 1 in for loop\n",
    "    plot_number = i+1\n",
    "    plt.subplot(1, len(cols), plot_number)\n",
    "    plt.title(f'Distribution of {col}')\n",
    "    df[col].hist(bins=10)\n",
    "    plt.grid(False)\n",
    "    plt.ticklabel_format(useOffset=False)\n",
    "plt.show()"
   ]
  },
  {
   "cell_type": "code",
   "execution_count": 36,
   "id": "4ec0cd57",
   "metadata": {},
   "outputs": [
    {
     "data": {
      "text/plain": [
       "<AxesSubplot:>"
      ]
     },
     "execution_count": 36,
     "metadata": {},
     "output_type": "execute_result"
    },
    {
     "data": {
      "image/png": "[encoded data removed]",
      "text/plain": [
       "<Figure size 640x480 with 1 Axes>"
      ]
     },
     "metadata": {},
     "output_type": "display_data"
    }
   ],
   "source": [
    "df['tax_value'].hist(bins=100)"
   ]
  },
  {
   "cell_type": "code",
   "execution_count": 37,
   "id": "cb62a997",
   "metadata": {},
   "outputs": [
    {
     "data": {
      "text/plain": [
       "<AxesSubplot:>"
      ]
     },
     "execution_count": 37,
     "metadata": {},
     "output_type": "execute_result"
    },
    {
     "data": {
      "image/png": "[encoded data removed]",
      "text/plain": [
       "<Figure size 640x480 with 1 Axes>"
      ]
     },
     "metadata": {},
     "output_type": "display_data"
    }
   ],
   "source": [
    "#Boxplot shows outliers as diamonds \n",
    "sns.boxplot(data=df)"
   ]
  },
  {
   "cell_type": "code",
   "execution_count": 38,
   "id": "1829efcd",
   "metadata": {},
   "outputs": [
    {
     "data": {
      "image/png": "[encoded data removed]",
      "text/plain": [
       "<Figure size 2000x1000 with 5 Axes>"
      ]
     },
     "metadata": {},
     "output_type": "display_data"
    }
   ],
   "source": [
    "#Boxplot show outliers as diamonds\n",
    "\n",
    "plt.figure(figsize=(20,10))\n",
    "for i, col in enumerate(cols):\n",
    "    # our plot numbers start at 1\n",
    "    plot_number = i+1\n",
    "    plt.subplot(1, len(cols), plot_number)\n",
    "    plt.title(f'Distribution of {col}')\n",
    "    plt.grid(False)\n",
    "    sns.boxplot(data=df[col])\n",
    "plt.show()"
   ]
  },
  {
   "cell_type": "markdown",
   "id": "0c939884",
   "metadata": {},
   "source": [
    "## Takeaways\n",
    " * Outliers must exist in each column for the x-axis to hae the range shown\n",
    " * tax_value looks to have skew due to the x-axis range that goes to 1e8"
   ]
  },
  {
   "cell_type": "markdown",
   "id": "c4f44248",
   "metadata": {},
   "source": [
    "## Decision Making \n",
    "* Outliers are depending on the propertie with 5+ bedrooms and bathrooms. If we need to make a conclusion about\n",
    "  the regular housing market, we could remove the outliers and analyze only homes in the median range of values\n",
    "  rather than the high value homes with 5+ bedrooms and bathrooms\n",
    "  \n",
    "  Remove the outliers as you work toward your MVP, make notes that your decisions will center around the \n",
    "  median homes and analyze the high value properties at a later time."
   ]
  },
  {
   "cell_type": "code",
   "execution_count": null,
   "id": "365abcd9",
   "metadata": {},
   "outputs": [],
   "source": []
  },
  {
   "cell_type": "markdown",
   "id": "f8c6e59a",
   "metadata": {},
   "source": [
    "What are the quartiles of each column?"
   ]
  },
  {
   "cell_type": "code",
   "execution_count": 39,
   "id": "07e99b01",
   "metadata": {},
   "outputs": [
    {
     "data": {
      "text/html": [
       "<div>\n",
       "<style scoped>\n",
       "    .dataframe tbody tr th:only-of-type {\n",
       "        vertical-align: middle;\n",
       "    }\n",
       "\n",
       "    .dataframe tbody tr th {\n",
       "        vertical-align: top;\n",
       "    }\n",
       "\n",
       "    .dataframe thead th {\n",
       "        text-align: right;\n",
       "    }\n",
       "</style>\n",
       "<table border=\"1\" class=\"dataframe\">\n",
       "  <thead>\n",
       "    <tr style=\"text-align: right;\">\n",
       "      <th></th>\n",
       "      <th>count</th>\n",
       "      <th>mean</th>\n",
       "      <th>std</th>\n",
       "      <th>min</th>\n",
       "      <th>25%</th>\n",
       "      <th>50%</th>\n",
       "      <th>75%</th>\n",
       "      <th>max</th>\n",
       "    </tr>\n",
       "  </thead>\n",
       "  <tbody>\n",
       "    <tr>\n",
       "      <th>bedrooms</th>\n",
       "      <td>2152853.0</td>\n",
       "      <td>3.287195</td>\n",
       "      <td>0.954757</td>\n",
       "      <td>0.00</td>\n",
       "      <td>3.0000</td>\n",
       "      <td>3.000</td>\n",
       "      <td>4.0000</td>\n",
       "      <td>25.00</td>\n",
       "    </tr>\n",
       "    <tr>\n",
       "      <th>bathrooms</th>\n",
       "      <td>2152853.0</td>\n",
       "      <td>2.230687</td>\n",
       "      <td>0.999281</td>\n",
       "      <td>0.00</td>\n",
       "      <td>2.0000</td>\n",
       "      <td>2.000</td>\n",
       "      <td>3.0000</td>\n",
       "      <td>32.00</td>\n",
       "    </tr>\n",
       "    <tr>\n",
       "      <th>area</th>\n",
       "      <td>2144379.0</td>\n",
       "      <td>1862.855178</td>\n",
       "      <td>1222.125124</td>\n",
       "      <td>1.00</td>\n",
       "      <td>1257.0000</td>\n",
       "      <td>1623.000</td>\n",
       "      <td>2208.0000</td>\n",
       "      <td>952576.00</td>\n",
       "    </tr>\n",
       "    <tr>\n",
       "      <th>tax_value</th>\n",
       "      <td>2152371.0</td>\n",
       "      <td>461896.052361</td>\n",
       "      <td>699675.940049</td>\n",
       "      <td>1.00</td>\n",
       "      <td>188170.0000</td>\n",
       "      <td>327671.000</td>\n",
       "      <td>534527.0000</td>\n",
       "      <td>98428909.00</td>\n",
       "    </tr>\n",
       "    <tr>\n",
       "      <th>year_built</th>\n",
       "      <td>2143526.0</td>\n",
       "      <td>1960.949681</td>\n",
       "      <td>22.162196</td>\n",
       "      <td>1801.00</td>\n",
       "      <td>1949.0000</td>\n",
       "      <td>1958.000</td>\n",
       "      <td>1976.0000</td>\n",
       "      <td>2016.00</td>\n",
       "    </tr>\n",
       "    <tr>\n",
       "      <th>taxamount</th>\n",
       "      <td>2148422.0</td>\n",
       "      <td>5634.863752</td>\n",
       "      <td>8178.908996</td>\n",
       "      <td>1.85</td>\n",
       "      <td>2534.9725</td>\n",
       "      <td>4108.945</td>\n",
       "      <td>6414.3175</td>\n",
       "      <td>1337755.86</td>\n",
       "    </tr>\n",
       "    <tr>\n",
       "      <th>fips</th>\n",
       "      <td>2152864.0</td>\n",
       "      <td>6048.377330</td>\n",
       "      <td>20.433289</td>\n",
       "      <td>6037.00</td>\n",
       "      <td>6037.0000</td>\n",
       "      <td>6037.000</td>\n",
       "      <td>6059.0000</td>\n",
       "      <td>6111.00</td>\n",
       "    </tr>\n",
       "  </tbody>\n",
       "</table>\n",
       "</div>"
      ],
      "text/plain": [
       "                count           mean            std      min          25%  \\\n",
       "bedrooms    2152853.0       3.287195       0.954757     0.00       3.0000   \n",
       "bathrooms   2152853.0       2.230687       0.999281     0.00       2.0000   \n",
       "area        2144379.0    1862.855178    1222.125124     1.00    1257.0000   \n",
       "tax_value   2152371.0  461896.052361  699675.940049     1.00  188170.0000   \n",
       "year_built  2143526.0    1960.949681      22.162196  1801.00    1949.0000   \n",
       "taxamount   2148422.0    5634.863752    8178.908996     1.85    2534.9725   \n",
       "fips        2152864.0    6048.377330      20.433289  6037.00    6037.0000   \n",
       "\n",
       "                   50%          75%          max  \n",
       "bedrooms         3.000       4.0000        25.00  \n",
       "bathrooms        2.000       3.0000        32.00  \n",
       "area          1623.000    2208.0000    952576.00  \n",
       "tax_value   327671.000  534527.0000  98428909.00  \n",
       "year_built    1958.000    1976.0000      2016.00  \n",
       "taxamount     4108.945    6414.3175   1337755.86  \n",
       "fips          6037.000    6059.0000      6111.00  "
      ]
     },
     "execution_count": 39,
     "metadata": {},
     "output_type": "execute_result"
    }
   ],
   "source": [
    "df.describe().T"
   ]
  },
  {
   "cell_type": "markdown",
   "id": "09e1a581",
   "metadata": {},
   "source": [
    "Get Quantile for columns"
   ]
  },
  {
   "cell_type": "code",
   "execution_count": 40,
   "id": "5c38dd17",
   "metadata": {},
   "outputs": [
    {
     "data": {
      "text/plain": [
       "2.0"
      ]
     },
     "execution_count": 40,
     "metadata": {},
     "output_type": "execute_result"
    }
   ],
   "source": [
    "#pull quartiles for columns\n",
    "df['bathrooms'].describe()['25%']"
   ]
  },
  {
   "cell_type": "code",
   "execution_count": 41,
   "id": "8bf7a5f4",
   "metadata": {},
   "outputs": [
    {
     "data": {
      "text/plain": [
       "2.0"
      ]
     },
     "execution_count": 41,
     "metadata": {},
     "output_type": "execute_result"
    }
   ],
   "source": [
    "#pull quantile for colum\n",
    "df['bathrooms'].quantile(.25)"
   ]
  },
  {
   "cell_type": "markdown",
   "id": "dcb07748",
   "metadata": {},
   "source": [
    "Separating the top .75 and the bottom .25 from the dataframe"
   ]
  },
  {
   "cell_type": "code",
   "execution_count": 42,
   "id": "8eb01263",
   "metadata": {},
   "outputs": [],
   "source": [
    "#IQR for bathrooms:\n",
    "iqr = df['bathrooms'].quantile(0.75) - df['bathrooms'].quantile(0.25)"
   ]
  },
  {
   "cell_type": "code",
   "execution_count": 43,
   "id": "c6c8ff9c",
   "metadata": {},
   "outputs": [],
   "source": [
    "lower_bathroom_fence = df['bathrooms'].quantile(0.25) - (1.5*iqr)"
   ]
  },
  {
   "cell_type": "code",
   "execution_count": 44,
   "id": "52e6bdee",
   "metadata": {},
   "outputs": [
    {
     "data": {
      "text/plain": [
       "0.5"
      ]
     },
     "execution_count": 44,
     "metadata": {},
     "output_type": "execute_result"
    }
   ],
   "source": [
    "lower_bathroom_fence"
   ]
  },
  {
   "cell_type": "code",
   "execution_count": 45,
   "id": "3c77101d",
   "metadata": {},
   "outputs": [],
   "source": [
    "upper_bathroom_fence = df['bathrooms'].quantile(0.75) + (1.5*iqr)"
   ]
  },
  {
   "cell_type": "code",
   "execution_count": 46,
   "id": "e18d264e",
   "metadata": {},
   "outputs": [
    {
     "data": {
      "text/plain": [
       "4.5"
      ]
     },
     "execution_count": 46,
     "metadata": {},
     "output_type": "execute_result"
    }
   ],
   "source": [
    "upper_bathroom_fence"
   ]
  },
  {
   "cell_type": "code",
   "execution_count": 47,
   "id": "62146131",
   "metadata": {},
   "outputs": [
    {
     "data": {
      "text/plain": [
       "count    2.065622e+06\n",
       "mean     2.131432e+00\n",
       "std      7.741102e-01\n",
       "min      1.000000e+00\n",
       "25%      2.000000e+00\n",
       "50%      2.000000e+00\n",
       "75%      3.000000e+00\n",
       "max      4.000000e+00\n",
       "Name: bathrooms, dtype: float64"
      ]
     },
     "execution_count": 47,
     "metadata": {},
     "output_type": "execute_result"
    }
   ],
   "source": [
    "df[(df.bathrooms > lower_bathroom_fence) & (df.bathrooms < upper_bathroom_fence)].bathrooms.describe()"
   ]
  },
  {
   "cell_type": "code",
   "execution_count": null,
   "id": "9daad9a0",
   "metadata": {},
   "outputs": [],
   "source": []
  },
  {
   "cell_type": "code",
   "execution_count": 48,
   "id": "b15f57da",
   "metadata": {},
   "outputs": [],
   "source": [
    "col_qs = {}\n",
    "for col in cols:\n",
    "    col_qs[col] = q1, q3 = df[col].quantile([0.25, 0.75])"
   ]
  },
  {
   "cell_type": "code",
   "execution_count": 49,
   "id": "cbc4cd7d",
   "metadata": {},
   "outputs": [
    {
     "data": {
      "text/plain": [
       "3.0"
      ]
     },
     "execution_count": 49,
     "metadata": {},
     "output_type": "execute_result"
    }
   ],
   "source": [
    "col_qs['bedrooms'][0.25]"
   ]
  },
  {
   "cell_type": "code",
   "execution_count": 50,
   "id": "df7b0fad",
   "metadata": {},
   "outputs": [],
   "source": [
    "def remove_outliers(df, col_list, k=1.5):\n",
    "    '''\n",
    "    remove outliers from a dataframe based on a list of columns\n",
    "    using the tukey method.\n",
    "    returns a single dataframe with outliers removed\n",
    "    '''\n",
    "    col_qs = {}\n",
    "    for col in col_list:\n",
    "        col_qs[col] = q1, q3 = df[col].quantile([0.25, 0.75])\n",
    "    for col in col_list:\n",
    "        iqr = col_qs[col][0.75] - col_qs[col][0.25]\n",
    "        lower_fence = col_qs[col][0.25] - (k*iqr)\n",
    "        upper_fence = col_qs[col][0.75] + (k*iqr)\n",
    "        print(type(lower_fence))\n",
    "        print(lower_fence)\n",
    "        df = df[(df[col] > lower_fence) & (df[col] < upper_fence)]\n",
    "    return df"
   ]
  },
  {
   "cell_type": "code",
   "execution_count": 51,
   "id": "2bd2d46e",
   "metadata": {},
   "outputs": [
    {
     "name": "stdout",
     "output_type": "stream",
     "text": [
      "<class 'numpy.float64'>\n",
      "1.5\n",
      "<class 'numpy.float64'>\n",
      "0.5\n",
      "<class 'numpy.float64'>\n",
      "-169.5\n",
      "<class 'numpy.float64'>\n",
      "-331365.5\n",
      "<class 'numpy.float64'>\n",
      "-3284.045\n"
     ]
    }
   ],
   "source": [
    "#called remove outliers function\n",
    "#variable to hold new df with outliers removed\n",
    "\n",
    "smol_df = remove_outliers(df, cols)"
   ]
  },
  {
   "cell_type": "code",
   "execution_count": 52,
   "id": "709030d7",
   "metadata": {},
   "outputs": [
    {
     "data": {
      "text/plain": [
       "(2152864, 7)"
      ]
     },
     "execution_count": 52,
     "metadata": {},
     "output_type": "execute_result"
    }
   ],
   "source": [
    "df.shape"
   ]
  },
  {
   "cell_type": "code",
   "execution_count": 53,
   "id": "3c19a642",
   "metadata": {},
   "outputs": [
    {
     "data": {
      "text/plain": [
       "(1907777, 7)"
      ]
     },
     "execution_count": 53,
     "metadata": {},
     "output_type": "execute_result"
    }
   ],
   "source": [
    "smol_df.shape"
   ]
  },
  {
   "cell_type": "code",
   "execution_count": 54,
   "id": "b40f9603",
   "metadata": {},
   "outputs": [
    {
     "data": {
      "text/plain": [
       "245087"
      ]
     },
     "execution_count": 54,
     "metadata": {},
     "output_type": "execute_result"
    }
   ],
   "source": [
    "#subtracted original df by df with removed outliers\n",
    "#This gives the difference in removed values. \n",
    "df.shape[0] - smol_df.shape[0]"
   ]
  },
  {
   "cell_type": "code",
   "execution_count": 55,
   "id": "e474457b",
   "metadata": {},
   "outputs": [
    {
     "data": {
      "text/plain": [
       "11.38"
      ]
     },
     "execution_count": 55,
     "metadata": {},
     "output_type": "execute_result"
    }
   ],
   "source": [
    "#Make the above calculation a percent to see what percent\n",
    "#of the whole data set was the remove outliers. \n",
    "round((df.shape[0] - smol_df.shape[0])/ df.shape[0] * 100, 2)"
   ]
  },
  {
   "cell_type": "code",
   "execution_count": 56,
   "id": "5bc12637",
   "metadata": {},
   "outputs": [
    {
     "data": {
      "text/plain": [
       "(1907777, 7)"
      ]
     },
     "execution_count": 56,
     "metadata": {},
     "output_type": "execute_result"
    }
   ],
   "source": [
    "smol_df.shape"
   ]
  },
  {
   "cell_type": "code",
   "execution_count": 57,
   "id": "096de7b3",
   "metadata": {},
   "outputs": [
    {
     "data": {
      "text/plain": [
       "bedrooms        0\n",
       "bathrooms       0\n",
       "area            0\n",
       "tax_value       0\n",
       "year_built    904\n",
       "taxamount       0\n",
       "fips            0\n",
       "dtype: int64"
      ]
     },
     "execution_count": 57,
     "metadata": {},
     "output_type": "execute_result"
    }
   ],
   "source": [
    "#get the total number of na values \n",
    "smol_df.isna().sum()"
   ]
  },
  {
   "cell_type": "code",
   "execution_count": 58,
   "id": "e15937c5",
   "metadata": {},
   "outputs": [
    {
     "name": "stdout",
     "output_type": "stream",
     "text": [
      "<class 'pandas.core.frame.DataFrame'>\n",
      "Int64Index: 1907777 entries, 4 to 2152863\n",
      "Data columns (total 7 columns):\n",
      " #   Column      Non-Null Count    Dtype  \n",
      "---  ------      --------------    -----  \n",
      " 0   bedrooms    1907777 non-null  float64\n",
      " 1   bathrooms   1907777 non-null  float64\n",
      " 2   area        1907777 non-null  float64\n",
      " 3   tax_value   1907777 non-null  float64\n",
      " 4   year_built  1906873 non-null  float64\n",
      " 5   taxamount   1907777 non-null  float64\n",
      " 6   fips        1907777 non-null  float64\n",
      "dtypes: float64(7)\n",
      "memory usage: 116.4 MB\n"
     ]
    }
   ],
   "source": [
    "#.info() usually shows count but when too many values you \n",
    "#must request it with .info(show_counts=True)\n",
    "smol_df.info(show_counts=True)"
   ]
  },
  {
   "cell_type": "markdown",
   "id": "144cb16f",
   "metadata": {},
   "source": [
    "## Takeaways\n",
    "* A large amount of outliers exist\n",
    "* If building a model based on median home values we can drop the outliers\n",
    "* Dropping outliers may also lower our null values count"
   ]
  },
  {
   "cell_type": "markdown",
   "id": "379ab89c",
   "metadata": {},
   "source": [
    "## Rivisualize Distributions"
   ]
  },
  {
   "cell_type": "code",
   "execution_count": 59,
   "id": "7b09b888",
   "metadata": {},
   "outputs": [],
   "source": [
    "#assign the median values to the original df\n",
    "df=smol_df"
   ]
  },
  {
   "cell_type": "code",
   "execution_count": 60,
   "id": "784f5b6a",
   "metadata": {},
   "outputs": [
    {
     "data": {
      "image/png": "[encoded data removed]",
      "text/plain": [
       "<Figure size 640x480 with 1 Axes>"
      ]
     },
     "metadata": {},
     "output_type": "display_data"
    },
    {
     "name": "stdout",
     "output_type": "stream",
     "text": [
      "==========\n"
     ]
    },
    {
     "data": {
      "image/png": "[encoded data removed]",
      "text/plain": [
       "<Figure size 640x480 with 1 Axes>"
      ]
     },
     "metadata": {},
     "output_type": "display_data"
    },
    {
     "name": "stdout",
     "output_type": "stream",
     "text": [
      "==========\n"
     ]
    },
    {
     "data": {
      "image/png": "[encoded data removed]",
      "text/plain": [
       "<Figure size 640x480 with 1 Axes>"
      ]
     },
     "metadata": {},
     "output_type": "display_data"
    },
    {
     "name": "stdout",
     "output_type": "stream",
     "text": [
      "==========\n"
     ]
    },
    {
     "data": {
      "image/png": "[encoded data removed]",
      "text/plain": [
       "<Figure size 640x480 with 1 Axes>"
      ]
     },
     "metadata": {},
     "output_type": "display_data"
    },
    {
     "name": "stdout",
     "output_type": "stream",
     "text": [
      "==========\n"
     ]
    },
    {
     "data": {
      "image/png": "[encoded data removed]",
      "text/plain": [
       "<Figure size 640x480 with 1 Axes>"
      ]
     },
     "metadata": {},
     "output_type": "display_data"
    },
    {
     "name": "stdout",
     "output_type": "stream",
     "text": [
      "==========\n"
     ]
    }
   ],
   "source": [
    "#creat hist plot of columns in df\n",
    "for col in cols:\n",
    "    df[col].hist()\n",
    "    plt.title(f'Dist of {col}')\n",
    "    plt.show()\n",
    "    print('==========')"
   ]
  },
  {
   "cell_type": "code",
   "execution_count": 61,
   "id": "ddd03a20",
   "metadata": {},
   "outputs": [
    {
     "data": {
      "image/png": "[encoded data removed]",
      "text/plain": [
       "<Figure size 1300x1000 with 5 Axes>"
      ]
     },
     "metadata": {},
     "output_type": "display_data"
    }
   ],
   "source": [
    "#show the distribution breakdown of each column in the median df\n",
    "plt.figure(figsize=(13,10))\n",
    "for i, col in enumerate(cols):\n",
    "    # our plot numbers start at 1\n",
    "    plot_number = i+1\n",
    "    plt.subplot(1, len(cols), plot_number)\n",
    "    plt.title(f'Distribution of {col}')\n",
    "    df[col].hist(bins=10)\n",
    "    plt.grid(False)\n",
    "    plt.ticklabel_format(useOffset=False)\n",
    "plt.show()"
   ]
  },
  {
   "cell_type": "markdown",
   "id": "41571369",
   "metadata": {},
   "source": [
    "## Takeaways\n",
    "* Bedrooms and bathrooms are not normally distributed\n",
    "* Other columns are skewed but are more normally distributed\n",
    "\n",
    "* We still have outliers dispite the 1.5 * IQR restrictive setting for the top/bottom 25% bands\n",
    "* No need to remove the few remaining outliers"
   ]
  },
  {
   "cell_type": "markdown",
   "id": "dbbf69bd",
   "metadata": {},
   "source": [
    "## How do null values look now?\n",
    "* null values have been cleaned up by removing outliers\n",
    "* the mean, median, and mode are all relatively similar to each other\n",
    "* We could try and develop a complex imputation method to estimate the year built based off other columns\n",
    "  but for speed we will just use the median. "
   ]
  },
  {
   "cell_type": "code",
   "execution_count": 62,
   "id": "4f0b6dce",
   "metadata": {},
   "outputs": [
    {
     "data": {
      "text/plain": [
       "0.00047385"
      ]
     },
     "execution_count": 62,
     "metadata": {},
     "output_type": "execute_result"
    }
   ],
   "source": [
    "round(df['year_built'].isna().sum() / len(df), 9)"
   ]
  },
  {
   "cell_type": "code",
   "execution_count": 63,
   "id": "6f58ad64",
   "metadata": {},
   "outputs": [
    {
     "data": {
      "text/plain": [
       "bedrooms        0\n",
       "bathrooms       0\n",
       "area            0\n",
       "tax_value       0\n",
       "year_built    904\n",
       "taxamount       0\n",
       "fips            0\n",
       "dtype: int64"
      ]
     },
     "execution_count": 63,
     "metadata": {},
     "output_type": "execute_result"
    }
   ],
   "source": [
    "df.isna().sum()"
   ]
  },
  {
   "cell_type": "code",
   "execution_count": 64,
   "id": "05d6d800",
   "metadata": {},
   "outputs": [
    {
     "data": {
      "text/plain": [
       "(1907777, 1907777)"
      ]
     },
     "execution_count": 64,
     "metadata": {},
     "output_type": "execute_result"
    }
   ],
   "source": [
    "len(df), df.shape[0]"
   ]
  },
  {
   "cell_type": "markdown",
   "id": "c11e9760",
   "metadata": {},
   "source": [
    "def wrangle_zillow(df):\n",
    "    '''Wrangle zillow will clean the data and update missing values \n",
    "    for the df'''\n",
    "   #Replace a whitespace sequence or empty with a NaN value and reassign this manipulation to df.\n",
    "    df = df.replace(r'^\\s*$', np.nan, regex=True)    \n",
    "    #drop any duplicates in the df\n",
    "    df = df.drop_duplicates()\n",
    "    #filled nan values with 0 \n",
    "    df = df.fillna(0)\n",
    "    return df\n"
   ]
  },
  {
   "cell_type": "code",
   "execution_count": 65,
   "id": "263d8fa5",
   "metadata": {},
   "outputs": [
    {
     "data": {
      "text/html": [
       "<div>\n",
       "<style scoped>\n",
       "    .dataframe tbody tr th:only-of-type {\n",
       "        vertical-align: middle;\n",
       "    }\n",
       "\n",
       "    .dataframe tbody tr th {\n",
       "        vertical-align: top;\n",
       "    }\n",
       "\n",
       "    .dataframe thead th {\n",
       "        text-align: right;\n",
       "    }\n",
       "</style>\n",
       "<table border=\"1\" class=\"dataframe\">\n",
       "  <thead>\n",
       "    <tr style=\"text-align: right;\">\n",
       "      <th></th>\n",
       "      <th>bedrooms</th>\n",
       "      <th>bathrooms</th>\n",
       "      <th>area</th>\n",
       "      <th>tax_value</th>\n",
       "      <th>year_built</th>\n",
       "      <th>taxamount</th>\n",
       "      <th>fips</th>\n",
       "    </tr>\n",
       "  </thead>\n",
       "  <tbody>\n",
       "    <tr>\n",
       "      <th>4</th>\n",
       "      <td>4.0</td>\n",
       "      <td>2.0</td>\n",
       "      <td>3633.0</td>\n",
       "      <td>296425.0</td>\n",
       "      <td>2005.0</td>\n",
       "      <td>6941.39</td>\n",
       "      <td>6037.0</td>\n",
       "    </tr>\n",
       "    <tr>\n",
       "      <th>6</th>\n",
       "      <td>3.0</td>\n",
       "      <td>4.0</td>\n",
       "      <td>1620.0</td>\n",
       "      <td>847770.0</td>\n",
       "      <td>2011.0</td>\n",
       "      <td>10244.94</td>\n",
       "      <td>6037.0</td>\n",
       "    </tr>\n",
       "    <tr>\n",
       "      <th>7</th>\n",
       "      <td>3.0</td>\n",
       "      <td>2.0</td>\n",
       "      <td>2077.0</td>\n",
       "      <td>646760.0</td>\n",
       "      <td>1926.0</td>\n",
       "      <td>7924.68</td>\n",
       "      <td>6037.0</td>\n",
       "    </tr>\n",
       "    <tr>\n",
       "      <th>18</th>\n",
       "      <td>3.0</td>\n",
       "      <td>1.0</td>\n",
       "      <td>1244.0</td>\n",
       "      <td>169471.0</td>\n",
       "      <td>1950.0</td>\n",
       "      <td>2532.88</td>\n",
       "      <td>6037.0</td>\n",
       "    </tr>\n",
       "    <tr>\n",
       "      <th>19</th>\n",
       "      <td>3.0</td>\n",
       "      <td>2.0</td>\n",
       "      <td>1300.0</td>\n",
       "      <td>233266.0</td>\n",
       "      <td>1950.0</td>\n",
       "      <td>3110.99</td>\n",
       "      <td>6037.0</td>\n",
       "    </tr>\n",
       "    <tr>\n",
       "      <th>...</th>\n",
       "      <td>...</td>\n",
       "      <td>...</td>\n",
       "      <td>...</td>\n",
       "      <td>...</td>\n",
       "      <td>...</td>\n",
       "      <td>...</td>\n",
       "      <td>...</td>\n",
       "    </tr>\n",
       "    <tr>\n",
       "      <th>2152853</th>\n",
       "      <td>3.0</td>\n",
       "      <td>2.0</td>\n",
       "      <td>1917.0</td>\n",
       "      <td>408680.0</td>\n",
       "      <td>1946.0</td>\n",
       "      <td>4341.32</td>\n",
       "      <td>6111.0</td>\n",
       "    </tr>\n",
       "    <tr>\n",
       "      <th>2152854</th>\n",
       "      <td>4.0</td>\n",
       "      <td>2.0</td>\n",
       "      <td>1987.0</td>\n",
       "      <td>259913.0</td>\n",
       "      <td>1955.0</td>\n",
       "      <td>3175.66</td>\n",
       "      <td>6059.0</td>\n",
       "    </tr>\n",
       "    <tr>\n",
       "      <th>2152856</th>\n",
       "      <td>3.0</td>\n",
       "      <td>2.5</td>\n",
       "      <td>1809.0</td>\n",
       "      <td>405547.0</td>\n",
       "      <td>2012.0</td>\n",
       "      <td>4181.10</td>\n",
       "      <td>6059.0</td>\n",
       "    </tr>\n",
       "    <tr>\n",
       "      <th>2152862</th>\n",
       "      <td>3.0</td>\n",
       "      <td>2.5</td>\n",
       "      <td>1974.0</td>\n",
       "      <td>424353.0</td>\n",
       "      <td>2015.0</td>\n",
       "      <td>5302.70</td>\n",
       "      <td>6059.0</td>\n",
       "    </tr>\n",
       "    <tr>\n",
       "      <th>2152863</th>\n",
       "      <td>4.0</td>\n",
       "      <td>4.0</td>\n",
       "      <td>2110.0</td>\n",
       "      <td>554009.0</td>\n",
       "      <td>2014.0</td>\n",
       "      <td>6761.20</td>\n",
       "      <td>6037.0</td>\n",
       "    </tr>\n",
       "  </tbody>\n",
       "</table>\n",
       "<p>1907777 rows × 7 columns</p>\n",
       "</div>"
      ],
      "text/plain": [
       "         bedrooms  bathrooms    area  tax_value  year_built  taxamount    fips\n",
       "4             4.0        2.0  3633.0   296425.0      2005.0    6941.39  6037.0\n",
       "6             3.0        4.0  1620.0   847770.0      2011.0   10244.94  6037.0\n",
       "7             3.0        2.0  2077.0   646760.0      1926.0    7924.68  6037.0\n",
       "18            3.0        1.0  1244.0   169471.0      1950.0    2532.88  6037.0\n",
       "19            3.0        2.0  1300.0   233266.0      1950.0    3110.99  6037.0\n",
       "...           ...        ...     ...        ...         ...        ...     ...\n",
       "2152853       3.0        2.0  1917.0   408680.0      1946.0    4341.32  6111.0\n",
       "2152854       4.0        2.0  1987.0   259913.0      1955.0    3175.66  6059.0\n",
       "2152856       3.0        2.5  1809.0   405547.0      2012.0    4181.10  6059.0\n",
       "2152862       3.0        2.5  1974.0   424353.0      2015.0    5302.70  6059.0\n",
       "2152863       4.0        4.0  2110.0   554009.0      2014.0    6761.20  6037.0\n",
       "\n",
       "[1907777 rows x 7 columns]"
      ]
     },
     "execution_count": 65,
     "metadata": {},
     "output_type": "execute_result"
    }
   ],
   "source": [
    "df"
   ]
  },
  {
   "cell_type": "code",
   "execution_count": 66,
   "id": "a2f42e42",
   "metadata": {},
   "outputs": [],
   "source": [
    "#missing_percent = 0.98\n",
    "missing_thresh = 0.05\n",
    "exclude_missing = []\n",
    "num_rows = df.shape[0]\n",
    "for c in df.columns:\n",
    "    # calculate the missing values\n",
    "    num_missing = df[c].isna().sum()\n",
    "    # make the ratio of the number missing over all values\n",
    "    missing_frac = num_missing / num_rows\n",
    "    # if missing values fraction is greater than the missing thresh:\n",
    "    if missing_frac > missing_thresh:\n",
    "        exclude_missing.append(c)"
   ]
  },
  {
   "cell_type": "code",
   "execution_count": 67,
   "id": "ab6fb852",
   "metadata": {},
   "outputs": [
    {
     "data": {
      "text/plain": [
       "[]"
      ]
     },
     "execution_count": 67,
     "metadata": {},
     "output_type": "execute_result"
    }
   ],
   "source": [
    "exclude_missing"
   ]
  },
  {
   "cell_type": "code",
   "execution_count": 68,
   "id": "fe0a16f7",
   "metadata": {},
   "outputs": [
    {
     "data": {
      "text/html": [
       "<div>\n",
       "<style scoped>\n",
       "    .dataframe tbody tr th:only-of-type {\n",
       "        vertical-align: middle;\n",
       "    }\n",
       "\n",
       "    .dataframe tbody tr th {\n",
       "        vertical-align: top;\n",
       "    }\n",
       "\n",
       "    .dataframe thead th {\n",
       "        text-align: right;\n",
       "    }\n",
       "</style>\n",
       "<table border=\"1\" class=\"dataframe\">\n",
       "  <thead>\n",
       "    <tr style=\"text-align: right;\">\n",
       "      <th></th>\n",
       "      <th>bedrooms</th>\n",
       "      <th>bathrooms</th>\n",
       "      <th>area</th>\n",
       "      <th>tax_value</th>\n",
       "      <th>taxamount</th>\n",
       "      <th>fips</th>\n",
       "    </tr>\n",
       "  </thead>\n",
       "  <tbody>\n",
       "    <tr>\n",
       "      <th>4</th>\n",
       "      <td>4.0</td>\n",
       "      <td>2.0</td>\n",
       "      <td>3633.0</td>\n",
       "      <td>296425.0</td>\n",
       "      <td>6941.39</td>\n",
       "      <td>6037.0</td>\n",
       "    </tr>\n",
       "    <tr>\n",
       "      <th>6</th>\n",
       "      <td>3.0</td>\n",
       "      <td>4.0</td>\n",
       "      <td>1620.0</td>\n",
       "      <td>847770.0</td>\n",
       "      <td>10244.94</td>\n",
       "      <td>6037.0</td>\n",
       "    </tr>\n",
       "    <tr>\n",
       "      <th>7</th>\n",
       "      <td>3.0</td>\n",
       "      <td>2.0</td>\n",
       "      <td>2077.0</td>\n",
       "      <td>646760.0</td>\n",
       "      <td>7924.68</td>\n",
       "      <td>6037.0</td>\n",
       "    </tr>\n",
       "    <tr>\n",
       "      <th>18</th>\n",
       "      <td>3.0</td>\n",
       "      <td>1.0</td>\n",
       "      <td>1244.0</td>\n",
       "      <td>169471.0</td>\n",
       "      <td>2532.88</td>\n",
       "      <td>6037.0</td>\n",
       "    </tr>\n",
       "    <tr>\n",
       "      <th>19</th>\n",
       "      <td>3.0</td>\n",
       "      <td>2.0</td>\n",
       "      <td>1300.0</td>\n",
       "      <td>233266.0</td>\n",
       "      <td>3110.99</td>\n",
       "      <td>6037.0</td>\n",
       "    </tr>\n",
       "    <tr>\n",
       "      <th>...</th>\n",
       "      <td>...</td>\n",
       "      <td>...</td>\n",
       "      <td>...</td>\n",
       "      <td>...</td>\n",
       "      <td>...</td>\n",
       "      <td>...</td>\n",
       "    </tr>\n",
       "    <tr>\n",
       "      <th>2152853</th>\n",
       "      <td>3.0</td>\n",
       "      <td>2.0</td>\n",
       "      <td>1917.0</td>\n",
       "      <td>408680.0</td>\n",
       "      <td>4341.32</td>\n",
       "      <td>6111.0</td>\n",
       "    </tr>\n",
       "    <tr>\n",
       "      <th>2152854</th>\n",
       "      <td>4.0</td>\n",
       "      <td>2.0</td>\n",
       "      <td>1987.0</td>\n",
       "      <td>259913.0</td>\n",
       "      <td>3175.66</td>\n",
       "      <td>6059.0</td>\n",
       "    </tr>\n",
       "    <tr>\n",
       "      <th>2152856</th>\n",
       "      <td>3.0</td>\n",
       "      <td>2.5</td>\n",
       "      <td>1809.0</td>\n",
       "      <td>405547.0</td>\n",
       "      <td>4181.10</td>\n",
       "      <td>6059.0</td>\n",
       "    </tr>\n",
       "    <tr>\n",
       "      <th>2152862</th>\n",
       "      <td>3.0</td>\n",
       "      <td>2.5</td>\n",
       "      <td>1974.0</td>\n",
       "      <td>424353.0</td>\n",
       "      <td>5302.70</td>\n",
       "      <td>6059.0</td>\n",
       "    </tr>\n",
       "    <tr>\n",
       "      <th>2152863</th>\n",
       "      <td>4.0</td>\n",
       "      <td>4.0</td>\n",
       "      <td>2110.0</td>\n",
       "      <td>554009.0</td>\n",
       "      <td>6761.20</td>\n",
       "      <td>6037.0</td>\n",
       "    </tr>\n",
       "  </tbody>\n",
       "</table>\n",
       "<p>1907777 rows × 6 columns</p>\n",
       "</div>"
      ],
      "text/plain": [
       "         bedrooms  bathrooms    area  tax_value  taxamount    fips\n",
       "4             4.0        2.0  3633.0   296425.0    6941.39  6037.0\n",
       "6             3.0        4.0  1620.0   847770.0   10244.94  6037.0\n",
       "7             3.0        2.0  2077.0   646760.0    7924.68  6037.0\n",
       "18            3.0        1.0  1244.0   169471.0    2532.88  6037.0\n",
       "19            3.0        2.0  1300.0   233266.0    3110.99  6037.0\n",
       "...           ...        ...     ...        ...        ...     ...\n",
       "2152853       3.0        2.0  1917.0   408680.0    4341.32  6111.0\n",
       "2152854       4.0        2.0  1987.0   259913.0    3175.66  6059.0\n",
       "2152856       3.0        2.5  1809.0   405547.0    4181.10  6059.0\n",
       "2152862       3.0        2.5  1974.0   424353.0    5302.70  6059.0\n",
       "2152863       4.0        4.0  2110.0   554009.0    6761.20  6037.0\n",
       "\n",
       "[1907777 rows x 6 columns]"
      ]
     },
     "execution_count": 68,
     "metadata": {},
     "output_type": "execute_result"
    }
   ],
   "source": [
    "df.drop(columns='year_built')"
   ]
  },
  {
   "cell_type": "code",
   "execution_count": 69,
   "id": "358c714f",
   "metadata": {},
   "outputs": [],
   "source": [
    "# Notes for ourselves: we only have the one column with missing info,\n",
    "# and its a pretty small number of values,\n",
    "# So i'm going to ahead and choose to use an imputer for these values"
   ]
  },
  {
   "cell_type": "markdown",
   "id": "c688e338",
   "metadata": {},
   "source": [
    "## What if removing the outliers didn't clean up our nulls? What would we do then?\n",
    ".dropna() We can utilize some of the parameters of .dropna() to clean up our nulls:\n",
    "\n",
    "* axis: {0 or ‘index’, 1 or ‘columns’}, default 0\n",
    "       * 0, or ‘index’ : Drop rows which contain missing values.\n",
    "       * 1, or ‘columns’ : Drop columns which contain missing value.\n",
    "* how: {‘any’, ‘all’}, default ‘any’\n",
    "       * ‘any’ : If any NA values are present, drop that row or column.\n",
    "       * ‘all’ : If all values are NA, drop that row or column.\n",
    "* thresh: int, optional\n",
    "       * Require that many non-NA values.\n",
    "* subset: array-like, optional\n",
    "       * Give the columns to consider, ignore non-listed columns\n",
    "\n",
    "Thresh is useful, but it is limited to an integer amount. What if we wanted to remove columns that had a certain proportion of na values?"
   ]
  },
  {
   "cell_type": "markdown",
   "id": "b6086357",
   "metadata": {},
   "source": [
    "## Are the column data types correct"
   ]
  },
  {
   "cell_type": "code",
   "execution_count": 70,
   "id": "1fef82c4",
   "metadata": {},
   "outputs": [
    {
     "name": "stdout",
     "output_type": "stream",
     "text": [
      "Column: bedrooms\n",
      "count    1.907777e+06\n",
      "mean     3.226660e+00\n",
      "std      7.864515e-01\n",
      "min      2.000000e+00\n",
      "25%      3.000000e+00\n",
      "50%      3.000000e+00\n",
      "75%      4.000000e+00\n",
      "max      5.000000e+00\n",
      "Name: bedrooms, dtype: float64\n",
      "==============\n",
      "Column: bathrooms\n",
      "count    1.907777e+06\n",
      "mean     2.075743e+00\n",
      "std      7.213485e-01\n",
      "min      1.000000e+00\n",
      "25%      2.000000e+00\n",
      "50%      2.000000e+00\n",
      "75%      2.500000e+00\n",
      "max      4.000000e+00\n",
      "Name: bathrooms, dtype: float64\n",
      "==============\n",
      "Column: area\n",
      "count    1.907777e+06\n",
      "mean     1.680690e+03\n",
      "std      5.923135e+02\n",
      "min      1.000000e+00\n",
      "25%      1.239000e+03\n",
      "50%      1.562000e+03\n",
      "75%      2.024000e+03\n",
      "max      3.634000e+03\n",
      "Name: area, dtype: float64\n",
      "==============\n",
      "Column: tax_value\n",
      "count    1.907777e+06\n",
      "mean     3.418999e+05\n",
      "std      2.155824e+05\n",
      "min      2.200000e+01\n",
      "25%      1.775200e+05\n",
      "50%      3.034080e+05\n",
      "75%      4.676380e+05\n",
      "max      1.054000e+06\n",
      "Name: tax_value, dtype: float64\n",
      "==============\n",
      "Column: year_built\n",
      "count    1.906873e+06\n",
      "mean     1.959753e+03\n",
      "std      2.079616e+01\n",
      "min      1.801000e+03\n",
      "25%      1.949000e+03\n",
      "50%      1.957000e+03\n",
      "75%      1.973000e+03\n",
      "max      2.016000e+03\n",
      "Name: year_built, dtype: float64\n",
      "==============\n",
      "Column: taxamount\n",
      "count    1.907777e+06\n",
      "mean     4.238401e+03\n",
      "std      2.452408e+03\n",
      "min      1.648000e+01\n",
      "25%      2.409950e+03\n",
      "50%      3.826540e+03\n",
      "75%      5.662090e+03\n",
      "max      1.223333e+04\n",
      "Name: taxamount, dtype: float64\n",
      "==============\n",
      "Column: fips\n",
      "count    1.907777e+06\n",
      "mean     6.048340e+03\n",
      "std      2.050559e+01\n",
      "min      6.037000e+03\n",
      "25%      6.037000e+03\n",
      "50%      6.037000e+03\n",
      "75%      6.059000e+03\n",
      "max      6.111000e+03\n",
      "Name: fips, dtype: float64\n",
      "==============\n"
     ]
    }
   ],
   "source": [
    "for col in df.columns:\n",
    "    print(f'Column: {col}')\n",
    "    print(df[col].describe())\n",
    "    print('==============')"
   ]
  },
  {
   "cell_type": "markdown",
   "id": "44c614a4",
   "metadata": {},
   "source": [
    "* casting fips and year built as an object because it is a numerical represintation of a catagorical value\n",
    "* leaving the rest as floats"
   ]
  },
  {
   "cell_type": "code",
   "execution_count": 71,
   "id": "aaaae95a",
   "metadata": {},
   "outputs": [],
   "source": [
    "# I did the imputation before the split for the sake of demonstration\n",
    "# note that we would not do this in production, \n",
    "# hence its not reflected in my wrangle.py :)"
   ]
  },
  {
   "cell_type": "code",
   "execution_count": 72,
   "id": "e9a5c5fa",
   "metadata": {},
   "outputs": [],
   "source": [
    "# fixing the year values that are missing"
   ]
  },
  {
   "cell_type": "code",
   "execution_count": 73,
   "id": "c2991fef",
   "metadata": {},
   "outputs": [
    {
     "data": {
      "text/html": [
       "<style>#sk-container-id-1 {color: black;background-color: white;}#sk-container-id-1 pre{padding: 0;}#sk-container-id-1 div.sk-toggleable {background-color: white;}#sk-container-id-1 label.sk-toggleable__label {cursor: pointer;display: block;width: 100%;margin-bottom: 0;padding: 0.3em;box-sizing: border-box;text-align: center;}#sk-container-id-1 label.sk-toggleable__label-arrow:before {content: \"▸\";float: left;margin-right: 0.25em;color: #696969;}#sk-container-id-1 label.sk-toggleable__label-arrow:hover:before {color: black;}#sk-container-id-1 div.sk-estimator:hover label.sk-toggleable__label-arrow:before {color: black;}#sk-container-id-1 div.sk-toggleable__content {max-height: 0;max-width: 0;overflow: hidden;text-align: left;background-color: #f0f8ff;}#sk-container-id-1 div.sk-toggleable__content pre {margin: 0.2em;color: black;border-radius: 0.25em;background-color: #f0f8ff;}#sk-container-id-1 input.sk-toggleable__control:checked~div.sk-toggleable__content {max-height: 200px;max-width: 100%;overflow: auto;}#sk-container-id-1 input.sk-toggleable__control:checked~label.sk-toggleable__label-arrow:before {content: \"▾\";}#sk-container-id-1 div.sk-estimator input.sk-toggleable__control:checked~label.sk-toggleable__label {background-color: #d4ebff;}#sk-container-id-1 div.sk-label input.sk-toggleable__control:checked~label.sk-toggleable__label {background-color: #d4ebff;}#sk-container-id-1 input.sk-hidden--visually {border: 0;clip: rect(1px 1px 1px 1px);clip: rect(1px, 1px, 1px, 1px);height: 1px;margin: -1px;overflow: hidden;padding: 0;position: absolute;width: 1px;}#sk-container-id-1 div.sk-estimator {font-family: monospace;background-color: #f0f8ff;border: 1px dotted black;border-radius: 0.25em;box-sizing: border-box;margin-bottom: 0.5em;}#sk-container-id-1 div.sk-estimator:hover {background-color: #d4ebff;}#sk-container-id-1 div.sk-parallel-item::after {content: \"\";width: 100%;border-bottom: 1px solid gray;flex-grow: 1;}#sk-container-id-1 div.sk-label:hover label.sk-toggleable__label {background-color: #d4ebff;}#sk-container-id-1 div.sk-serial::before {content: \"\";position: absolute;border-left: 1px solid gray;box-sizing: border-box;top: 0;bottom: 0;left: 50%;z-index: 0;}#sk-container-id-1 div.sk-serial {display: flex;flex-direction: column;align-items: center;background-color: white;padding-right: 0.2em;padding-left: 0.2em;position: relative;}#sk-container-id-1 div.sk-item {position: relative;z-index: 1;}#sk-container-id-1 div.sk-parallel {display: flex;align-items: stretch;justify-content: center;background-color: white;position: relative;}#sk-container-id-1 div.sk-item::before, #sk-container-id-1 div.sk-parallel-item::before {content: \"\";position: absolute;border-left: 1px solid gray;box-sizing: border-box;top: 0;bottom: 0;left: 50%;z-index: -1;}#sk-container-id-1 div.sk-parallel-item {display: flex;flex-direction: column;z-index: 1;position: relative;background-color: white;}#sk-container-id-1 div.sk-parallel-item:first-child::after {align-self: flex-end;width: 50%;}#sk-container-id-1 div.sk-parallel-item:last-child::after {align-self: flex-start;width: 50%;}#sk-container-id-1 div.sk-parallel-item:only-child::after {width: 0;}#sk-container-id-1 div.sk-dashed-wrapped {border: 1px dashed gray;margin: 0 0.4em 0.5em 0.4em;box-sizing: border-box;padding-bottom: 0.4em;background-color: white;}#sk-container-id-1 div.sk-label label {font-family: monospace;font-weight: bold;display: inline-block;line-height: 1.2em;}#sk-container-id-1 div.sk-label-container {text-align: center;}#sk-container-id-1 div.sk-container {/* jupyter's `normalize.less` sets `[hidden] { display: none; }` but bootstrap.min.css set `[hidden] { display: none !important; }` so we also need the `!important` here to be able to override the default hidden behavior on the sphinx rendered scikit-learn.org. See: https://github.com/scikit-learn/scikit-learn/issues/21755 */display: inline-block !important;position: relative;}#sk-container-id-1 div.sk-text-repr-fallback {display: none;}</style><div id=\"sk-container-id-1\" class=\"sk-top-container\"><div class=\"sk-text-repr-fallback\"><pre>SimpleImputer()</pre><b>In a Jupyter environment, please rerun this cell to show the HTML representation or trust the notebook. <br />On GitHub, the HTML representation is unable to render, please try loading this page with nbviewer.org.</b></div><div class=\"sk-container\" hidden><div class=\"sk-item\"><div class=\"sk-estimator sk-toggleable\"><input class=\"sk-toggleable__control sk-hidden--visually\" id=\"sk-estimator-id-1\" type=\"checkbox\" checked><label for=\"sk-estimator-id-1\" class=\"sk-toggleable__label sk-toggleable__label-arrow\">SimpleImputer</label><div class=\"sk-toggleable__content\"><pre>SimpleImputer()</pre></div></div></div></div></div>"
      ],
      "text/plain": [
       "SimpleImputer()"
      ]
     },
     "execution_count": 73,
     "metadata": {},
     "output_type": "execute_result"
    }
   ],
   "source": [
    "year_imputer = SimpleImputer()\n",
    "year_imputer.fit(df[['year_built']])"
   ]
  },
  {
   "cell_type": "code",
   "execution_count": 74,
   "id": "2bdf66c6",
   "metadata": {},
   "outputs": [],
   "source": [
    "df['year_built'] = year_imputer.transform(df[['year_built']])"
   ]
  },
  {
   "cell_type": "code",
   "execution_count": 75,
   "id": "7c2d3b62",
   "metadata": {},
   "outputs": [
    {
     "name": "stdout",
     "output_type": "stream",
     "text": [
      "<class 'pandas.core.frame.DataFrame'>\n",
      "Int64Index: 1907777 entries, 4 to 2152863\n",
      "Data columns (total 7 columns):\n",
      " #   Column      Non-Null Count    Dtype  \n",
      "---  ------      --------------    -----  \n",
      " 0   bedrooms    1907777 non-null  float64\n",
      " 1   bathrooms   1907777 non-null  float64\n",
      " 2   area        1907777 non-null  float64\n",
      " 3   tax_value   1907777 non-null  float64\n",
      " 4   year_built  1907777 non-null  float64\n",
      " 5   taxamount   1907777 non-null  float64\n",
      " 6   fips        1907777 non-null  float64\n",
      "dtypes: float64(7)\n",
      "memory usage: 116.4 MB\n"
     ]
    }
   ],
   "source": [
    "df.info(show_counts=True)"
   ]
  },
  {
   "cell_type": "markdown",
   "id": "f85888a0",
   "metadata": {},
   "source": [
    "## Target Leakage \n",
    "Consider the goal of the model to be developed:\n",
    "\n",
    "Build an end-to-end project in which you use some of their Kaggle data to predict property values\n",
    "taxamount is determined by a real estate tax appraisers valuation of the home combined with the local tax rate.\n",
    "\n",
    "The question to consider, does this represent information that we wouldn't have at the time of prediction? Does this represent the target variable? This is where specific domain knowledge is very important.\n",
    "\n",
    "Tax appraised values often deviate from the sale price of a property due to a number of reasons:\n",
    "\n",
    "* Unlike market value, homeowners are incentivized to reduce their tax value appraisal. As a result, some homeowners may misrepresent the features/size of their property to avoid a bigger tax bill\n",
    "* Some counties limit the tax appraisal increase to a set amount, causing tax appraised value to significantly lag behind home values in hot markets\n",
    "* Local tax appraisers evaluate homes based on evaluation criteria that can differ from county to county or even year to year based on political and administrative pressures\n",
    "\n",
    "This data is a snapshot of home information in 2017. There is an additional column in the database containing assessment year. This might be useful to know the recency of any given taxamount value.\n",
    "\n",
    "When a home is being appraised to evaluate for market pricing, prior years home value is not considered in that price determination. That doesn't mean that prior years home value is not predictive of price. It could be. For this reason, we will allow taxamount to remain in the dataset.\n",
    "\n",
    "Without this specific domain knowledge, this column seems to represent the risk of target leak. If you are in a situation where you don't know if you have a target leak situation, its probably generally better to err on the side of caution."
   ]
  },
  {
   "cell_type": "code",
   "execution_count": 76,
   "id": "c696c04e",
   "metadata": {},
   "outputs": [],
   "source": [
    "## Split the data \n",
    "#can impute after the split has been done. "
   ]
  },
  {
   "cell_type": "code",
   "execution_count": null,
   "id": "fbcae4f4",
   "metadata": {},
   "outputs": [],
   "source": []
  },
  {
   "cell_type": "code",
   "execution_count": 77,
   "id": "bf4db8ce",
   "metadata": {},
   "outputs": [],
   "source": [
    "'''Wrangles data from Zillow Database'''\n",
    "\n",
    "##################################################Wrangle.py###################################################\n",
    "\n",
    "import pandas as pd\n",
    "\n",
    "import matplotlib.pyplot as plt\n",
    "import seaborn as sns\n",
    "\n",
    "from sklearn.model_selection import train_test_split\n",
    "from sklearn.impute import SimpleImputer\n",
    "\n",
    "from env import user, password, host\n",
    "\n",
    "#**************************************************Acquire*******************************************************\n",
    "\n",
    "def acquire_zillow():\n",
    "    ''' Acquire data from Zillow using env imports and rename columns'''\n",
    "    \n",
    "    url = f\"mysql+pymysql://{user}:{password}@{host}/zillow\"\n",
    "    \n",
    "    query = \"\"\"\n",
    "            \n",
    "    SELECT bedroomcnt, bathroomcnt, calculatedfinishedsquarefeet, taxvaluedollarcnt, yearbuilt, taxamount, fips\n",
    "    FROM properties_2017\n",
    "\n",
    "    LEFT JOIN propertylandusetype USING(propertylandusetypeid)\n",
    "\n",
    "    WHERE propertylandusedesc IN (\"Single Family Residential\",                       \n",
    "                                  \"Inferred Single Family Residential\")\"\"\"\n",
    "\n",
    "    # get dataframe of data\n",
    "    df = pd.read_sql(query, url)\n",
    "    \n",
    "    \n",
    "    # renaming column names to one's I like better\n",
    "    df = df.rename(columns = {'bedroomcnt':'bedrooms', \n",
    "                              'bathroomcnt':'bathrooms', \n",
    "                              'calculatedfinishedsquarefeet':'area',\n",
    "                              'taxvaluedollarcnt':'tax_value', \n",
    "                              'yearbuilt':'year_built',})\n",
    "    return df\n",
    "\n",
    "#**************************************************Remove Outliers*******************************************************\n",
    "\n",
    "def remove_outliers(df, k, col_list):\n",
    "    ''' remove outliers from a list of columns in a dataframe \n",
    "        and return that dataframe\n",
    "    '''\n",
    "    \n",
    "    for col in col_list:\n",
    "\n",
    "        q1, q3 = df[col].quantile([.25, .75])  # get quartiles\n",
    "        \n",
    "        iqr = q3 - q1   # calculate interquartile range\n",
    "        \n",
    "        upper_bound = q3 + k * iqr   # get upper bound\n",
    "        lower_bound = q1 - k * iqr   # get lower bound\n",
    "\n",
    "        # return dataframe without outliers\n",
    "        \n",
    "        df = df[(df[col] > lower_bound) & (df[col] < upper_bound)]\n",
    "        \n",
    "    return df\n",
    "\n",
    "#**************************************************Distributions*******************************************************\n",
    "\n",
    "def get_hist(df):\n",
    "    ''' Gets histographs of acquired continuous variables'''\n",
    "    \n",
    "    plt.figure(figsize=(16, 3))\n",
    "\n",
    "    # List of columns\n",
    "    cols = [col for col in df.columns if col not in ['fips', 'year_built']]\n",
    "\n",
    "    for i, col in enumerate(cols):\n",
    "\n",
    "        # i starts at 0, but plot nos should start at 1\n",
    "        plot_number = i + 1 \n",
    "\n",
    "        # Create subplot.\n",
    "        plt.subplot(1, len(cols), plot_number)\n",
    "\n",
    "        # Title with column name.\n",
    "        plt.title(col)\n",
    "\n",
    "        # Display histogram for column.\n",
    "        df[col].hist(bins=5)\n",
    "\n",
    "        # Hide gridlines.\n",
    "        plt.grid(False)\n",
    "\n",
    "        # turn off scientific notation\n",
    "        plt.ticklabel_format(useOffset=False)\n",
    "\n",
    "        plt.tight_layout()\n",
    "\n",
    "    plt.show()\n",
    "        \n",
    "        \n",
    "def get_box(df):\n",
    "    ''' Gets boxplots of acquired continuous variables'''\n",
    "    \n",
    "    # List of columns\n",
    "    cols = ['bedrooms', 'bathrooms', 'area', 'tax_value', 'taxamount']\n",
    "\n",
    "    plt.figure(figsize=(16, 3))\n",
    "\n",
    "    for i, col in enumerate(cols):\n",
    "\n",
    "        # i starts at 0, but plot should start at 1\n",
    "        plot_number = i + 1 \n",
    "\n",
    "        # Create subplot.\n",
    "        plt.subplot(1, len(cols), plot_number)\n",
    "\n",
    "        # Title with column name.\n",
    "        plt.title(col)\n",
    "\n",
    "        # Display boxplot for column.\n",
    "        sns.boxplot(data=df[[col]])\n",
    "\n",
    "        # Hide gridlines.\n",
    "        plt.grid(False)\n",
    "\n",
    "        # sets proper spacing between plots\n",
    "        plt.tight_layout()\n",
    "\n",
    "    plt.show()\n",
    "        \n",
    "#**************************************************Prepare*******************************************************\n",
    "\n",
    "def prepare_zillow(df):\n",
    "    ''' Prepare zillow data for exploration'''\n",
    "\n",
    "    # removing outliers\n",
    "    df = remove_outliers(df, 1.5, ['bedrooms', 'bathrooms', 'area', 'tax_value', 'taxamount'])\n",
    "    \n",
    "    # get distributions of numeric data\n",
    "    get_hist(df)\n",
    "    get_box(df)\n",
    "    \n",
    "    # converting column datatypes\n",
    "    df.fips = df.fips.astype(object)\n",
    "    df.year_built = df.year_built.astype(object)\n",
    "    \n",
    "    # train/validate/test split\n",
    "    train_validate, test = train_test_split(df, test_size=.2, random_state=123)\n",
    "    train, validate = train_test_split(train_validate, test_size=.3, random_state=123)\n",
    "    \n",
    "    # impute year built using mode\n",
    "    imputer = SimpleImputer(strategy='median')\n",
    "\n",
    "    imputer.fit(train[['year_built']])\n",
    "\n",
    "    train[['year_built']] = imputer.transform(train[['year_built']])\n",
    "    validate[['year_built']] = imputer.transform(validate[['year_built']])\n",
    "    test[['year_built']] = imputer.transform(test[['year_built']])       \n",
    "    \n",
    "    return train, validate, test    \n",
    "\n",
    "\n",
    "#**************************************************Wrangle*******************************************************\n",
    "\n",
    "\n",
    "def wrangle_zillow():\n",
    "    '''Acquire and prepare data from Zillow database for explore'''\n",
    "    train, validate, test = prepare_zillow(acquire_zillow())\n",
    "    \n",
    "    return train, validate, test"
   ]
  },
  {
   "cell_type": "code",
   "execution_count": 79,
   "id": "65893cda",
   "metadata": {},
   "outputs": [],
   "source": [
    "#import from wrangle file wrangle_zillow function\n",
    "from wrangle import wrangle_zillow"
   ]
  },
  {
   "cell_type": "code",
   "execution_count": 81,
   "id": "c63e3279",
   "metadata": {},
   "outputs": [
    {
     "data": {
      "image/png": "[encoded data removed]",
      "text/plain": [
       "<Figure size 1600x300 with 5 Axes>"
      ]
     },
     "metadata": {},
     "output_type": "display_data"
    },
    {
     "data": {
      "image/png": "[encoded data removed]",
      "text/plain": [
       "<Figure size 1600x300 with 5 Axes>"
      ]
     },
     "metadata": {},
     "output_type": "display_data"
    }
   ],
   "source": [
    "#return split for each graphed out\n",
    "train, val, test = wrangle.wrangle_zillow()\n"
   ]
  },
  {
   "cell_type": "code",
   "execution_count": 82,
   "id": "7c6d6f81",
   "metadata": {},
   "outputs": [
    {
     "data": {
      "text/plain": [
       "((1038959, 7), (445269, 7), (371057, 7))"
      ]
     },
     "execution_count": 82,
     "metadata": {},
     "output_type": "execute_result"
    }
   ],
   "source": [
    "train.shape, val.shape, test.shape"
   ]
  },
  {
   "cell_type": "code",
   "execution_count": null,
   "id": "5eebfda3",
   "metadata": {},
   "outputs": [],
   "source": []
  },
  {
   "cell_type": "code",
   "execution_count": null,
   "id": "690f5a47",
   "metadata": {},
   "outputs": [],
   "source": []
  }
 ],
 "metadata": {
  "kernelspec": {
   "display_name": "Python 3 (ipykernel)",
   "language": "python",
   "name": "python3"
  },
  "language_info": {
   "codemirror_mode": {
    "name": "ipython",
    "version": 3
   },
   "file_extension": ".py",
   "mimetype": "text/x-python",
   "name": "python",
   "nbconvert_exporter": "python",
   "pygments_lexer": "ipython3",
   "version": "3.9.13"
  }
 },
 "nbformat": 4,
 "nbformat_minor": 5
}
